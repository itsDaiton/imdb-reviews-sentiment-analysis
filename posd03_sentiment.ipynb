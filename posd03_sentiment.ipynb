{
  "cells": [
    {
      "cell_type": "markdown",
      "id": "e382e3c5-e291-429b-bded-b72940611fa7",
      "metadata": {
        "id": "e382e3c5-e291-429b-bded-b72940611fa7"
      },
      "source": [
        "# Analýza sentimentu - semestrální práce"
      ]
    },
    {
      "cell_type": "markdown",
      "source": [
        "Tato semestrální práce se zabývá zpracováním úlohy analýzy sentimentu na vybraném datasetu za použití knihovny NLTK (Natural Language Toolkit). Cílem práce je otestovat možnosti této knihovny a využít její prostředky pro danou úlohu. V rámci práce budou vyzkoušeny různé techniky pro zpracování analýzy sentimentu a na závěr budou tyto výsledky porovnány z hlediska vhodné metriky.\n",
        "\n",
        "Jako dataset byl zvolen IMDB Movie Ratings, tedy recenze filmů a seriálů z platformy IMDB.\n",
        "\n",
        "- Autor: David Poslušný\n",
        "- Knihovna: https://www.nltk.org/\n",
        "- Dataset: https://www.kaggle.com/datasets/yasserh/imdb-movie-ratings-sentiment-analysis"
      ],
      "metadata": {
        "id": "cTyyXWsXToKT"
      },
      "id": "cTyyXWsXToKT"
    },
    {
      "cell_type": "markdown",
      "id": "9dd36050-9a32-4210-80a7-fa6c2925126a",
      "metadata": {
        "id": "9dd36050-9a32-4210-80a7-fa6c2925126a"
      },
      "source": [
        "### Import knihoven"
      ]
    },
    {
      "cell_type": "code",
      "execution_count": null,
      "id": "06104025-4df5-4825-90d6-ed1a16d7bff3",
      "metadata": {
        "executionCancelledAt": 1715522490693,
        "executionTime": 10,
        "lastExecutedAt": 1715522105893,
        "lastExecutedByKernel": "551a8cde-7b70-48a4-b5da-757c1e443e6e",
        "lastScheduledRunId": null,
        "lastSuccessfullyExecutedCode": "import pandas as pd\nimport matplotlib.pyplot as plt\nimport nltk",
        "outputsMetadata": {
          "0": {
            "height": 80,
            "type": "stream"
          }
        },
        "id": "06104025-4df5-4825-90d6-ed1a16d7bff3"
      },
      "outputs": [],
      "source": [
        "import numpy as np\n",
        "import pandas as pd\n",
        "import matplotlib.pyplot as plt\n",
        "import string\n",
        "import re\n",
        "import random\n",
        "\n",
        "import nltk\n",
        "from nltk.tokenize import word_tokenize\n",
        "from nltk.corpus import stopwords, wordnet, sentiwordnet\n",
        "from nltk.stem import WordNetLemmatizer\n",
        "from nltk.tag import pos_tag\n",
        "from nltk.sentiment.vader import SentimentIntensityAnalyzer\n",
        "from nltk.collocations import BigramCollocationFinder, TrigramCollocationFinder\n",
        "from nltk.probability import FreqDist\n",
        "from nltk.metrics import accuracy\n",
        "from nltk.classify import NaiveBayesClassifier\n",
        "from nltk.classify.scikitlearn import SklearnClassifier\n",
        "\n",
        "from sklearn.model_selection import train_test_split\n",
        "from sklearn.metrics import ConfusionMatrixDisplay\n",
        "from sklearn.linear_model import LogisticRegression\n",
        "from sklearn.svm import LinearSVC\n",
        "\n",
        "import gensim\n",
        "from gensim.models import Word2Vec\n",
        "\n",
        "from transformers import BertTokenizer\n",
        "from transformers.tokenization_utils_base import BatchEncoding\n",
        "from transformers import BertModel\n",
        "\n",
        "import torch\n",
        "from torch import nn\n",
        "from torch.utils.data import DataLoader, Dataset\n",
        "from pandas.core.reshape.encoding import DataFrame\n",
        "\n",
        "from torch.optim import Adam\n",
        "from tqdm import tqdm"
      ]
    },
    {
      "cell_type": "markdown",
      "source": [
        "### Příprava souborů"
      ],
      "metadata": {
        "id": "e1RhAJFiV_4N"
      },
      "id": "e1RhAJFiV_4N"
    },
    {
      "cell_type": "markdown",
      "source": [
        "- **stopwods** - slovník stop slov nutný pro lingvistické předzpracování\n",
        "- **punkt** - předtrénovaný punkt tokenizer, který slouží jako oddělovač vět\n",
        "- **wordnet** - anglická lexikální databáze WordNet\n",
        "- **vader_lexicon** - NLTK analyzátor sentimentu založený na pravidlech\n",
        "- **sentiwordnet** - SentiWordNet je lexikální zdroj pro opinion mining\n",
        "- **averaged_perceptron_tagger** - předtrénovaný POS tagger"
      ],
      "metadata": {
        "id": "TGWoH82bWBdp"
      },
      "id": "TGWoH82bWBdp"
    },
    {
      "cell_type": "code",
      "execution_count": null,
      "id": "35fc7f0b",
      "metadata": {
        "colab": {
          "base_uri": "https://localhost:8080/"
        },
        "id": "35fc7f0b",
        "outputId": "bf6d561d-d639-4604-fdbc-403f8da3b1b3"
      },
      "outputs": [
        {
          "output_type": "stream",
          "name": "stderr",
          "text": [
            "[nltk_data] Downloading package stopwords to /root/nltk_data...\n",
            "[nltk_data]   Unzipping corpora/stopwords.zip.\n",
            "[nltk_data] Downloading package punkt to /root/nltk_data...\n",
            "[nltk_data]   Unzipping tokenizers/punkt.zip.\n",
            "[nltk_data] Downloading package wordnet to /root/nltk_data...\n",
            "[nltk_data] Downloading package vader_lexicon to /root/nltk_data...\n",
            "[nltk_data] Downloading package sentiwordnet to /root/nltk_data...\n",
            "[nltk_data]   Unzipping corpora/sentiwordnet.zip.\n",
            "[nltk_data] Downloading package averaged_perceptron_tagger to\n",
            "[nltk_data]     /root/nltk_data...\n",
            "[nltk_data]   Unzipping taggers/averaged_perceptron_tagger.zip.\n"
          ]
        },
        {
          "output_type": "execute_result",
          "data": {
            "text/plain": [
              "True"
            ]
          },
          "metadata": {},
          "execution_count": 2
        }
      ],
      "source": [
        "nltk.download('stopwords')\n",
        "nltk.download('punkt')\n",
        "nltk.download('wordnet')\n",
        "nltk.download('vader_lexicon')\n",
        "nltk.download('sentiwordnet')\n",
        "nltk.download('averaged_perceptron_tagger')"
      ]
    },
    {
      "cell_type": "markdown",
      "source": [
        "### Import dat"
      ],
      "metadata": {
        "id": "tR-PrzEZYuMh"
      },
      "id": "tR-PrzEZYuMh"
    },
    {
      "cell_type": "code",
      "source": [
        "from google.colab import drive\n",
        "drive.mount('/content/drive')"
      ],
      "metadata": {
        "colab": {
          "base_uri": "https://localhost:8080/"
        },
        "id": "h5ba2ufu_GsF",
        "outputId": "737b8264-5daa-4d03-e713-6fe32e79ffb5"
      },
      "id": "h5ba2ufu_GsF",
      "execution_count": null,
      "outputs": [
        {
          "output_type": "stream",
          "name": "stdout",
          "text": [
            "Mounted at /content/drive\n"
          ]
        }
      ]
    },
    {
      "cell_type": "code",
      "source": [
        "datapath = '/content/drive/MyDrive/4IZ470/sentiment/movie.csv'\n",
        "data = pd.read_csv(datapath)"
      ],
      "metadata": {
        "id": "ica_vOn1_K9V"
      },
      "id": "ica_vOn1_K9V",
      "execution_count": null,
      "outputs": []
    },
    {
      "cell_type": "markdown",
      "id": "26ee49a8-96f9-46fb-9bdd-a469f0f83fef",
      "metadata": {
        "id": "26ee49a8-96f9-46fb-9bdd-a469f0f83fef"
      },
      "source": [
        "## 1 Průzkum dat"
      ]
    },
    {
      "cell_type": "markdown",
      "source": [
        "V této kapitole provedeme průzkum dat."
      ],
      "metadata": {
        "id": "TRV5HCwsZUbp"
      },
      "id": "TRV5HCwsZUbp"
    },
    {
      "cell_type": "code",
      "execution_count": null,
      "id": "09eb0d3d-4578-42f1-bbf8-630118ccb379",
      "metadata": {
        "executionCancelledAt": null,
        "executionTime": 44,
        "lastExecutedAt": 1715521798890,
        "lastExecutedByKernel": "551a8cde-7b70-48a4-b5da-757c1e443e6e",
        "lastScheduledRunId": null,
        "lastSuccessfullyExecutedCode": "data.head(10)",
        "outputsMetadata": {
          "0": {
            "height": 321,
            "type": "dataFrame"
          }
        },
        "colab": {
          "base_uri": "https://localhost:8080/"
        },
        "id": "09eb0d3d-4578-42f1-bbf8-630118ccb379",
        "outputId": "2ed1e8b2-6332-44fc-ee97-690295152295"
      },
      "outputs": [
        {
          "output_type": "execute_result",
          "data": {
            "text/plain": [
              "                                                text  label\n",
              "0  I grew up (b. 1965) watching and loving the Th...      0\n",
              "1  When I put this movie in my DVD player, and sa...      0\n",
              "2  Why do people who do not know what a particula...      0\n",
              "3  Even though I have great interest in Biblical ...      0\n",
              "4  Im a die hard Dads Army fan and nothing will e...      1\n",
              "5  A terrible movie as everyone has said. What ma...      0\n",
              "6  Finally watched this shocking movie last night...      1\n",
              "7  I caught this film on AZN on cable. It sounded...      0\n",
              "8  It may be the remake of 1987 Autumn's Tale aft...      1\n",
              "9  My Super Ex Girlfriend turned out to be a plea...      1"
            ],
            "text/html": [
              "\n",
              "  <div id=\"df-40731512-023d-4a7e-8d5f-681bc0249e6d\" class=\"colab-df-container\">\n",
              "    <div>\n",
              "<style scoped>\n",
              "    .dataframe tbody tr th:only-of-type {\n",
              "        vertical-align: middle;\n",
              "    }\n",
              "\n",
              "    .dataframe tbody tr th {\n",
              "        vertical-align: top;\n",
              "    }\n",
              "\n",
              "    .dataframe thead th {\n",
              "        text-align: right;\n",
              "    }\n",
              "</style>\n",
              "<table border=\"1\" class=\"dataframe\">\n",
              "  <thead>\n",
              "    <tr style=\"text-align: right;\">\n",
              "      <th></th>\n",
              "      <th>text</th>\n",
              "      <th>label</th>\n",
              "    </tr>\n",
              "  </thead>\n",
              "  <tbody>\n",
              "    <tr>\n",
              "      <th>0</th>\n",
              "      <td>I grew up (b. 1965) watching and loving the Th...</td>\n",
              "      <td>0</td>\n",
              "    </tr>\n",
              "    <tr>\n",
              "      <th>1</th>\n",
              "      <td>When I put this movie in my DVD player, and sa...</td>\n",
              "      <td>0</td>\n",
              "    </tr>\n",
              "    <tr>\n",
              "      <th>2</th>\n",
              "      <td>Why do people who do not know what a particula...</td>\n",
              "      <td>0</td>\n",
              "    </tr>\n",
              "    <tr>\n",
              "      <th>3</th>\n",
              "      <td>Even though I have great interest in Biblical ...</td>\n",
              "      <td>0</td>\n",
              "    </tr>\n",
              "    <tr>\n",
              "      <th>4</th>\n",
              "      <td>Im a die hard Dads Army fan and nothing will e...</td>\n",
              "      <td>1</td>\n",
              "    </tr>\n",
              "    <tr>\n",
              "      <th>5</th>\n",
              "      <td>A terrible movie as everyone has said. What ma...</td>\n",
              "      <td>0</td>\n",
              "    </tr>\n",
              "    <tr>\n",
              "      <th>6</th>\n",
              "      <td>Finally watched this shocking movie last night...</td>\n",
              "      <td>1</td>\n",
              "    </tr>\n",
              "    <tr>\n",
              "      <th>7</th>\n",
              "      <td>I caught this film on AZN on cable. It sounded...</td>\n",
              "      <td>0</td>\n",
              "    </tr>\n",
              "    <tr>\n",
              "      <th>8</th>\n",
              "      <td>It may be the remake of 1987 Autumn's Tale aft...</td>\n",
              "      <td>1</td>\n",
              "    </tr>\n",
              "    <tr>\n",
              "      <th>9</th>\n",
              "      <td>My Super Ex Girlfriend turned out to be a plea...</td>\n",
              "      <td>1</td>\n",
              "    </tr>\n",
              "  </tbody>\n",
              "</table>\n",
              "</div>\n",
              "    <div class=\"colab-df-buttons\">\n",
              "\n",
              "  <div class=\"colab-df-container\">\n",
              "    <button class=\"colab-df-convert\" onclick=\"convertToInteractive('df-40731512-023d-4a7e-8d5f-681bc0249e6d')\"\n",
              "            title=\"Convert this dataframe to an interactive table.\"\n",
              "            style=\"display:none;\">\n",
              "\n",
              "  <svg xmlns=\"http://www.w3.org/2000/svg\" height=\"24px\" viewBox=\"0 -960 960 960\">\n",
              "    <path d=\"M120-120v-720h720v720H120Zm60-500h600v-160H180v160Zm220 220h160v-160H400v160Zm0 220h160v-160H400v160ZM180-400h160v-160H180v160Zm440 0h160v-160H620v160ZM180-180h160v-160H180v160Zm440 0h160v-160H620v160Z\"/>\n",
              "  </svg>\n",
              "    </button>\n",
              "\n",
              "  <style>\n",
              "    .colab-df-container {\n",
              "      display:flex;\n",
              "      gap: 12px;\n",
              "    }\n",
              "\n",
              "    .colab-df-convert {\n",
              "      background-color: #E8F0FE;\n",
              "      border: none;\n",
              "      border-radius: 50%;\n",
              "      cursor: pointer;\n",
              "      display: none;\n",
              "      fill: #1967D2;\n",
              "      height: 32px;\n",
              "      padding: 0 0 0 0;\n",
              "      width: 32px;\n",
              "    }\n",
              "\n",
              "    .colab-df-convert:hover {\n",
              "      background-color: #E2EBFA;\n",
              "      box-shadow: 0px 1px 2px rgba(60, 64, 67, 0.3), 0px 1px 3px 1px rgba(60, 64, 67, 0.15);\n",
              "      fill: #174EA6;\n",
              "    }\n",
              "\n",
              "    .colab-df-buttons div {\n",
              "      margin-bottom: 4px;\n",
              "    }\n",
              "\n",
              "    [theme=dark] .colab-df-convert {\n",
              "      background-color: #3B4455;\n",
              "      fill: #D2E3FC;\n",
              "    }\n",
              "\n",
              "    [theme=dark] .colab-df-convert:hover {\n",
              "      background-color: #434B5C;\n",
              "      box-shadow: 0px 1px 3px 1px rgba(0, 0, 0, 0.15);\n",
              "      filter: drop-shadow(0px 1px 2px rgba(0, 0, 0, 0.3));\n",
              "      fill: #FFFFFF;\n",
              "    }\n",
              "  </style>\n",
              "\n",
              "    <script>\n",
              "      const buttonEl =\n",
              "        document.querySelector('#df-40731512-023d-4a7e-8d5f-681bc0249e6d button.colab-df-convert');\n",
              "      buttonEl.style.display =\n",
              "        google.colab.kernel.accessAllowed ? 'block' : 'none';\n",
              "\n",
              "      async function convertToInteractive(key) {\n",
              "        const element = document.querySelector('#df-40731512-023d-4a7e-8d5f-681bc0249e6d');\n",
              "        const dataTable =\n",
              "          await google.colab.kernel.invokeFunction('convertToInteractive',\n",
              "                                                    [key], {});\n",
              "        if (!dataTable) return;\n",
              "\n",
              "        const docLinkHtml = 'Like what you see? Visit the ' +\n",
              "          '<a target=\"_blank\" href=https://colab.research.google.com/notebooks/data_table.ipynb>data table notebook</a>'\n",
              "          + ' to learn more about interactive tables.';\n",
              "        element.innerHTML = '';\n",
              "        dataTable['output_type'] = 'display_data';\n",
              "        await google.colab.output.renderOutput(dataTable, element);\n",
              "        const docLink = document.createElement('div');\n",
              "        docLink.innerHTML = docLinkHtml;\n",
              "        element.appendChild(docLink);\n",
              "      }\n",
              "    </script>\n",
              "  </div>\n",
              "\n",
              "\n",
              "<div id=\"df-cbba1af3-8fa2-4db6-9c88-0a4634928147\">\n",
              "  <button class=\"colab-df-quickchart\" onclick=\"quickchart('df-cbba1af3-8fa2-4db6-9c88-0a4634928147')\"\n",
              "            title=\"Suggest charts\"\n",
              "            style=\"display:none;\">\n",
              "\n",
              "<svg xmlns=\"http://www.w3.org/2000/svg\" height=\"24px\"viewBox=\"0 0 24 24\"\n",
              "     width=\"24px\">\n",
              "    <g>\n",
              "        <path d=\"M19 3H5c-1.1 0-2 .9-2 2v14c0 1.1.9 2 2 2h14c1.1 0 2-.9 2-2V5c0-1.1-.9-2-2-2zM9 17H7v-7h2v7zm4 0h-2V7h2v10zm4 0h-2v-4h2v4z\"/>\n",
              "    </g>\n",
              "</svg>\n",
              "  </button>\n",
              "\n",
              "<style>\n",
              "  .colab-df-quickchart {\n",
              "      --bg-color: #E8F0FE;\n",
              "      --fill-color: #1967D2;\n",
              "      --hover-bg-color: #E2EBFA;\n",
              "      --hover-fill-color: #174EA6;\n",
              "      --disabled-fill-color: #AAA;\n",
              "      --disabled-bg-color: #DDD;\n",
              "  }\n",
              "\n",
              "  [theme=dark] .colab-df-quickchart {\n",
              "      --bg-color: #3B4455;\n",
              "      --fill-color: #D2E3FC;\n",
              "      --hover-bg-color: #434B5C;\n",
              "      --hover-fill-color: #FFFFFF;\n",
              "      --disabled-bg-color: #3B4455;\n",
              "      --disabled-fill-color: #666;\n",
              "  }\n",
              "\n",
              "  .colab-df-quickchart {\n",
              "    background-color: var(--bg-color);\n",
              "    border: none;\n",
              "    border-radius: 50%;\n",
              "    cursor: pointer;\n",
              "    display: none;\n",
              "    fill: var(--fill-color);\n",
              "    height: 32px;\n",
              "    padding: 0;\n",
              "    width: 32px;\n",
              "  }\n",
              "\n",
              "  .colab-df-quickchart:hover {\n",
              "    background-color: var(--hover-bg-color);\n",
              "    box-shadow: 0 1px 2px rgba(60, 64, 67, 0.3), 0 1px 3px 1px rgba(60, 64, 67, 0.15);\n",
              "    fill: var(--button-hover-fill-color);\n",
              "  }\n",
              "\n",
              "  .colab-df-quickchart-complete:disabled,\n",
              "  .colab-df-quickchart-complete:disabled:hover {\n",
              "    background-color: var(--disabled-bg-color);\n",
              "    fill: var(--disabled-fill-color);\n",
              "    box-shadow: none;\n",
              "  }\n",
              "\n",
              "  .colab-df-spinner {\n",
              "    border: 2px solid var(--fill-color);\n",
              "    border-color: transparent;\n",
              "    border-bottom-color: var(--fill-color);\n",
              "    animation:\n",
              "      spin 1s steps(1) infinite;\n",
              "  }\n",
              "\n",
              "  @keyframes spin {\n",
              "    0% {\n",
              "      border-color: transparent;\n",
              "      border-bottom-color: var(--fill-color);\n",
              "      border-left-color: var(--fill-color);\n",
              "    }\n",
              "    20% {\n",
              "      border-color: transparent;\n",
              "      border-left-color: var(--fill-color);\n",
              "      border-top-color: var(--fill-color);\n",
              "    }\n",
              "    30% {\n",
              "      border-color: transparent;\n",
              "      border-left-color: var(--fill-color);\n",
              "      border-top-color: var(--fill-color);\n",
              "      border-right-color: var(--fill-color);\n",
              "    }\n",
              "    40% {\n",
              "      border-color: transparent;\n",
              "      border-right-color: var(--fill-color);\n",
              "      border-top-color: var(--fill-color);\n",
              "    }\n",
              "    60% {\n",
              "      border-color: transparent;\n",
              "      border-right-color: var(--fill-color);\n",
              "    }\n",
              "    80% {\n",
              "      border-color: transparent;\n",
              "      border-right-color: var(--fill-color);\n",
              "      border-bottom-color: var(--fill-color);\n",
              "    }\n",
              "    90% {\n",
              "      border-color: transparent;\n",
              "      border-bottom-color: var(--fill-color);\n",
              "    }\n",
              "  }\n",
              "</style>\n",
              "\n",
              "  <script>\n",
              "    async function quickchart(key) {\n",
              "      const quickchartButtonEl =\n",
              "        document.querySelector('#' + key + ' button');\n",
              "      quickchartButtonEl.disabled = true;  // To prevent multiple clicks.\n",
              "      quickchartButtonEl.classList.add('colab-df-spinner');\n",
              "      try {\n",
              "        const charts = await google.colab.kernel.invokeFunction(\n",
              "            'suggestCharts', [key], {});\n",
              "      } catch (error) {\n",
              "        console.error('Error during call to suggestCharts:', error);\n",
              "      }\n",
              "      quickchartButtonEl.classList.remove('colab-df-spinner');\n",
              "      quickchartButtonEl.classList.add('colab-df-quickchart-complete');\n",
              "    }\n",
              "    (() => {\n",
              "      let quickchartButtonEl =\n",
              "        document.querySelector('#df-cbba1af3-8fa2-4db6-9c88-0a4634928147 button');\n",
              "      quickchartButtonEl.style.display =\n",
              "        google.colab.kernel.accessAllowed ? 'block' : 'none';\n",
              "    })();\n",
              "  </script>\n",
              "</div>\n",
              "    </div>\n",
              "  </div>\n"
            ],
            "application/vnd.google.colaboratory.intrinsic+json": {
              "type": "dataframe",
              "variable_name": "data",
              "summary": "{\n  \"name\": \"data\",\n  \"rows\": 40000,\n  \"fields\": [\n    {\n      \"column\": \"text\",\n      \"properties\": {\n        \"dtype\": \"string\",\n        \"num_unique_values\": 39723,\n        \"samples\": [\n          \"There are similarities between Ray Lawrence's \\\"Jindabyne\\\" and his last movie \\\"Lantana\\\" \\u0096 a dead body and its repercussions for already dysfunctional lives. But whereas \\\"Lantana\\\" offered some hope and resolution, \\\"Jindabyne\\\" leaves everything unresolved in a bleak way that will leave most viewers unsatisfied, perhaps even cheated.<br /><br />The storyline - the aftermath of a fisherman's discovery of a corpse floating in a remote river - is based on a short story by Raymond Carver. It became an element in Robert Altman's classic 1993 ensemble \\\"Short Cuts\\\". Lawrence uses this theme for an exploration and exposition of relationships within a small Australian community under stress. The movie poses some moral questions \\\"Would you let the discovery of a dead body ruin your good weekend?\\\" and more poignantly for Australians \\\"Would it make any difference if the dead person was an aboriginal?\\\" The acting, especially by Gabriel Byrne and Laura Linney, is commendable. And there are elements of mysticism reinforced by haunting music, not unlike \\\"Picnic at Hanging Rock\\\".<br /><br />If all this sounds like the basis for a great movie - be prepared for a let down, the pace is very slow and the murder is shown near the beginning, thereby eliminating the element of mystery. And so we are left with these desolate lives and a blank finale.\",\n          \"Hammer House of Horror: Witching Time is set in rural England on Woodstock farm where stressed musician David Winter (Jon Finch) lives with his actress wife Mary (Prunella Gee) & is currently composing the music for a horror film. One night while looking for his dog Billy David finds a mysterious woman in his barn, calling herself Lucinda Jessop (Patricia Quinn) she claims to be a witch who has transported herself from 300 years in the past to now. Obviously rather sceptical David has a hard time believing her so he locks her in a room in his farmhouse & calls his doctor Charles (Ian McCulloch) to come examine her, however once he arrives & they enter the room Lucinda has disappeared. Charles puts it down to David drinking too much but over the next few day strange & disturbing things begin to happen to David & Mary...<br /><br />Witching Time was episode 1 from the short lived British anthology horror series produced by Hammer studios for TV & originally aired here in the UK during September 1980, the first of two Hammer House of Horror episodes to be directed by Don Leaver (episode 13 The Mark of Satan being the other) I actually rather liked this. As a series Hammer House of Horror dealt with various different themes & were all unconnected to each other except in name & unsurprisingly Watching Time is a sinister & effective little tale about a witch, the script by Anthony Read benefits from it's slight 50 odd minute duration & moves along at a nice pace. The character's are pretty good as is the dialogue, there are some nice scenes here & I liked the way it never quite reveals whether David & Mary are going crazy or not. I think it's a well structured, entertaining & reasonably creepy horror themed TV show that I enjoyed more than I thought I would.<br /><br />Being made for British TV meant the boys at Hammer had a lower budget than usual, if that was even possible, & as such there is no gorgeous period settings here as in their most well know Frankenstein & Dracula films although the contemporary English setting does give it a certain atmosphere that you can relate to a bit more. Another TV based restriction is that the exploitation levels are lower than you might hope for, there's some nudity & gore but not much although I didn't mind too much as the story here is pretty good. It's well made for what it is & Hammer's experience on their feature films probably helped make these look pretty good, the acting is good as well with genre favourite Ian McCulloch making a bit-part appearance.<br /><br />Witching Time is a good start to the Hammer House of Horror series, as a 50 minute piece of British TV it's pretty damned good, now why don't they make show's like this over here anymore?\",\n          \"What a great cast for this movie. The timing was excellent and there were so many clever lines-several times I was still laughing minutes after they were delivered. I found Manna From Heaven to have some surprising moments and while there were things I was thinking would happen, the way they came together was anything but predictable. This movie is about hope and righting wrongs. I left the theater feeling inspired to do the right thing. Bravo to the Five Sisters.\"\n        ],\n        \"semantic_type\": \"\",\n        \"description\": \"\"\n      }\n    },\n    {\n      \"column\": \"label\",\n      \"properties\": {\n        \"dtype\": \"number\",\n        \"std\": 0,\n        \"min\": 0,\n        \"max\": 1,\n        \"num_unique_values\": 2,\n        \"samples\": [\n          1,\n          0\n        ],\n        \"semantic_type\": \"\",\n        \"description\": \"\"\n      }\n    }\n  ]\n}"
            }
          },
          "metadata": {},
          "execution_count": 5
        }
      ],
      "source": [
        "data.head(10)"
      ]
    },
    {
      "cell_type": "markdown",
      "source": [
        "Dataset má 2 sloupce: text a label. Text označuje text recenze a label značí hodnotu sentimentu. 1 znamená pozitivní sentiment a 0 znamená negativní sentiment."
      ],
      "metadata": {
        "id": "zSYWe42bZeWE"
      },
      "id": "zSYWe42bZeWE"
    },
    {
      "cell_type": "code",
      "execution_count": null,
      "id": "88d3230d-1e24-4306-bfb1-99ccafa475a2",
      "metadata": {
        "executionCancelledAt": null,
        "executionTime": 20,
        "lastExecutedAt": 1715521905503,
        "lastExecutedByKernel": "551a8cde-7b70-48a4-b5da-757c1e443e6e",
        "lastScheduledRunId": null,
        "lastSuccessfullyExecutedCode": "data.info()",
        "outputsMetadata": {
          "0": {
            "height": 206,
            "type": "stream"
          }
        },
        "colab": {
          "base_uri": "https://localhost:8080/"
        },
        "id": "88d3230d-1e24-4306-bfb1-99ccafa475a2",
        "outputId": "1b17b65e-b82f-4293-e9fb-7249fd7d573c"
      },
      "outputs": [
        {
          "output_type": "stream",
          "name": "stdout",
          "text": [
            "<class 'pandas.core.frame.DataFrame'>\n",
            "RangeIndex: 40000 entries, 0 to 39999\n",
            "Data columns (total 2 columns):\n",
            " #   Column  Non-Null Count  Dtype \n",
            "---  ------  --------------  ----- \n",
            " 0   text    40000 non-null  object\n",
            " 1   label   40000 non-null  int64 \n",
            "dtypes: int64(1), object(1)\n",
            "memory usage: 625.1+ KB\n"
          ]
        }
      ],
      "source": [
        "data.info()"
      ]
    },
    {
      "cell_type": "markdown",
      "source": [
        "Dataset má celkem 40 000 řádků."
      ],
      "metadata": {
        "id": "72mqhBUXZtRD"
      },
      "id": "72mqhBUXZtRD"
    },
    {
      "cell_type": "code",
      "execution_count": null,
      "id": "5fbbb231-e852-45dc-8f94-d50b26edebb5",
      "metadata": {
        "executionCancelledAt": null,
        "executionTime": 19,
        "lastExecutedAt": 1715521923704,
        "lastExecutedByKernel": "551a8cde-7b70-48a4-b5da-757c1e443e6e",
        "lastScheduledRunId": null,
        "lastSuccessfullyExecutedCode": "data.shape",
        "colab": {
          "base_uri": "https://localhost:8080/"
        },
        "id": "5fbbb231-e852-45dc-8f94-d50b26edebb5",
        "outputId": "5b607d09-6b43-490d-9ab6-b62d651605a3"
      },
      "outputs": [
        {
          "output_type": "execute_result",
          "data": {
            "text/plain": [
              "(40000, 2)"
            ]
          },
          "metadata": {},
          "execution_count": 7
        }
      ],
      "source": [
        "data.shape"
      ]
    },
    {
      "cell_type": "code",
      "execution_count": null,
      "id": "ec74bb63",
      "metadata": {
        "colab": {
          "base_uri": "https://localhost:8080/"
        },
        "id": "ec74bb63",
        "outputId": "4e1b20ae-a888-40f2-c424-ec53d0208d3a"
      },
      "outputs": [
        {
          "output_type": "execute_result",
          "data": {
            "text/plain": [
              "text     0\n",
              "label    0\n",
              "dtype: int64"
            ]
          },
          "metadata": {},
          "execution_count": 8
        }
      ],
      "source": [
        "data.isna().sum()"
      ]
    },
    {
      "cell_type": "markdown",
      "source": [
        "Dataset nemá žádné chybějící hodnoty, není tedy nutné provést tento typ předzpracování."
      ],
      "metadata": {
        "id": "M8kLGIE_Z60u"
      },
      "id": "M8kLGIE_Z60u"
    },
    {
      "cell_type": "code",
      "execution_count": null,
      "id": "c972f60e-b51e-409b-ad00-cf3d11bdb1f1",
      "metadata": {
        "executionCancelledAt": 1715522490692,
        "colab": {
          "base_uri": "https://localhost:8080/"
        },
        "id": "c972f60e-b51e-409b-ad00-cf3d11bdb1f1",
        "outputId": "19db7107-14ba-408d-cbb5-59977a467f14"
      },
      "outputs": [
        {
          "output_type": "display_data",
          "data": {
            "text/plain": [
              "<Figure size 800x600 with 1 Axes>"
            ],
            "image/png": "[encoded data removed]"
          },
          "metadata": {}
        }
      ],
      "source": [
        "sentiments = data['label'].value_counts()\n",
        "plt.figure(figsize=(8, 6))\n",
        "plt.pie(\n",
        "  sentiments,\n",
        "  labels=sentiments.index,\n",
        "  autopct='%1.1f%%',\n",
        "  startangle=135\n",
        "  )\n",
        "plt.title('Positive vs. Negative sentiment')\n",
        "plt.show()"
      ]
    },
    {
      "cell_type": "markdown",
      "source": [
        "Výsečový graf nám ukazuje, že poměr pozitivního a negativního sentimentu je 50 %. Dataset tedy lze považovat za vybalancovaný."
      ],
      "metadata": {
        "id": "-bsOSTq2aJbR"
      },
      "id": "-bsOSTq2aJbR"
    },
    {
      "cell_type": "code",
      "execution_count": null,
      "id": "a14e4eee",
      "metadata": {
        "id": "a14e4eee"
      },
      "outputs": [],
      "source": [
        "positive_reviews = data[data['label'] == 1]\n",
        "negative_reviews = data[data['label'] == 0]"
      ]
    },
    {
      "cell_type": "code",
      "execution_count": null,
      "id": "5125a3c8",
      "metadata": {
        "colab": {
          "base_uri": "https://localhost:8080/"
        },
        "id": "5125a3c8",
        "outputId": "3e3481be-a0ba-4dfa-f5fd-de630763d91e"
      },
      "outputs": [
        {
          "output_type": "stream",
          "name": "stdout",
          "text": [
            "Number of positive sentiments: 19981\n",
            "Number of negative sentiments:  20019\n"
          ]
        }
      ],
      "source": [
        "print('Number of positive sentiments:', sentiments[1])\n",
        "print('Number of negative sentiments: ', sentiments[0])"
      ]
    },
    {
      "cell_type": "markdown",
      "source": [
        "Recenze jsou často dlouhé, obsahují i třeba přes 1000 slov, proto nyní velikost datasetu snížíme na polovinu, aby bylo trénování modelů rychlejší a splnitelné v přiměřeném čase, zejména pro model BERT. Důležité je zde zachovat poměr 1:1 mezi sentimentem, abychom dostali reprezentativní výsledky."
      ],
      "metadata": {
        "id": "yWxEIxejgv6d"
      },
      "id": "yWxEIxejgv6d"
    },
    {
      "cell_type": "code",
      "execution_count": null,
      "id": "8d8106a3",
      "metadata": {
        "id": "8d8106a3"
      },
      "outputs": [],
      "source": [
        "sample_positive = positive_reviews.sample(n=10000, random_state=42)\n",
        "sample_negative = negative_reviews.sample(n=10000, random_state=42)"
      ]
    },
    {
      "cell_type": "code",
      "execution_count": null,
      "id": "4d9b92ab",
      "metadata": {
        "id": "4d9b92ab"
      },
      "outputs": [],
      "source": [
        "reviews = pd.concat([sample_positive, sample_negative])\n",
        "reviews = reviews.sample(frac=1, random_state=42).reset_index(drop=True)"
      ]
    },
    {
      "cell_type": "code",
      "execution_count": null,
      "id": "ab9c2a93",
      "metadata": {
        "colab": {
          "base_uri": "https://localhost:8080/"
        },
        "id": "ab9c2a93",
        "outputId": "9cfabf03-e828-42ba-9911-7416c91363f8"
      },
      "outputs": [
        {
          "output_type": "execute_result",
          "data": {
            "text/plain": [
              "(20000, 2)"
            ]
          },
          "metadata": {},
          "execution_count": 14
        }
      ],
      "source": [
        "reviews.shape"
      ]
    },
    {
      "cell_type": "code",
      "source": [
        "reviews['label'].value_counts()"
      ],
      "metadata": {
        "colab": {
          "base_uri": "https://localhost:8080/"
        },
        "id": "bbJ3X-E4hTPS",
        "outputId": "8cc14e77-4f26-4ec0-faa7-2e5e0b1f2f6e"
      },
      "id": "bbJ3X-E4hTPS",
      "execution_count": null,
      "outputs": [
        {
          "output_type": "execute_result",
          "data": {
            "text/plain": [
              "label\n",
              "0    10000\n",
              "1    10000\n",
              "Name: count, dtype: int64"
            ]
          },
          "metadata": {},
          "execution_count": 15
        }
      ]
    },
    {
      "cell_type": "markdown",
      "source": [
        "Nyní máme 10 000 pozitivních recenzí a 10 000 negativních recenzí. Můžeme tedy přejít na předzpracování datasetu."
      ],
      "metadata": {
        "id": "CMVzK4cqhaPf"
      },
      "id": "CMVzK4cqhaPf"
    },
    {
      "cell_type": "markdown",
      "id": "d697975b",
      "metadata": {
        "id": "d697975b"
      },
      "source": [
        "## 2. Předzpracování dat"
      ]
    },
    {
      "cell_type": "markdown",
      "source": [
        "V této kapitole provedeme lingvistické a textové předzpracování textových dat.\n",
        "\n",
        "Zde vidíme příklad toho jak vypadají recenze."
      ],
      "metadata": {
        "id": "4CWyfd0rhk76"
      },
      "id": "4CWyfd0rhk76"
    },
    {
      "cell_type": "code",
      "source": [
        "print(reviews['text'][123])"
      ],
      "metadata": {
        "colab": {
          "base_uri": "https://localhost:8080/"
        },
        "id": "Kj4ndDbnhpV-",
        "outputId": "0ee01827-98d6-461d-a6ac-4b0f766742c2"
      },
      "id": "Kj4ndDbnhpV-",
      "execution_count": null,
      "outputs": [
        {
          "output_type": "stream",
          "name": "stdout",
          "text": [
            "I really enjoyed this -- I'm a big fan of movies that mess with your mind and leave you with a lot of questions and ideas to debate, and this was a stellar example. But then, Terry Gilliam is always good at that (well, almost always. Let's just forget about Jabberwocky and The Brothers Grimm, shall we?).<br /><br />I particularly liked the way it handled the time travel theme and the avoidance of paradoxes -- the way events in the past and future intertwined and fed into each other.<br /><br />It was also really well done aesthetically -- the art direction was really great, and I wish I'd been able to see it on the big screen. The future scenes had a similar feel to Brazil in a lot of ways, and even the present scenes were often really visually compelling.<br /><br />But perhaps the most striking thing about it was that it featured two actors I normally don't much like, Bruce Willis and Brad Pitt, and they both delivered amazing performances here. Pitt especially -- I'd seen one or two films before that made me realize he could in fact actually act (contrary to what I'd originally thought), but this one really outdid them. I actually found myself asking my friends at one point \"Are you SURE that's Brad Pitt?\" This is probably the most memorable performance of his career (though admittedly that may not be saying too much).\n"
          ]
        }
      ]
    },
    {
      "cell_type": "markdown",
      "id": "d4b64fda",
      "metadata": {
        "id": "d4b64fda"
      },
      "source": [
        "V rámci předzpracování provedeme:\n",
        "- **odstranění HTML značek** - značky jako \\<p> a \\<br> se objevují v textech\n",
        "- **tokenizace** - označení slov a mezer + identifikace vět\n",
        "- **odstranění stop slov** - odstranění bezvýznamných slov\n",
        "- **odstranění diakritiky**\n",
        "- **odstranění non-alfanumerických slov**\n",
        "- **lemmatizace** - převod slov na jejich základní tvar"
      ]
    },
    {
      "cell_type": "markdown",
      "source": [
        "Pro lemmatizaci využijeme WordNet lemmatizátor přímo obsažený v knihovně NLTK.\n",
        "Jedná se o lemmatizaci pomocí vestavěné morfické funkce WordNetu.\n",
        "\n",
        "V rámci stop slov vybereme slovník pouze pro anglický jazyk."
      ],
      "metadata": {
        "id": "wSzWQ-HWketc"
      },
      "id": "wSzWQ-HWketc"
    },
    {
      "cell_type": "code",
      "execution_count": null,
      "id": "6b86a186",
      "metadata": {
        "id": "6b86a186"
      },
      "outputs": [],
      "source": [
        "lemmatizer = WordNetLemmatizer()\n",
        "stopwords = nltk.corpus.stopwords.words('english')\n",
        "\n",
        "pattern_html = r'<.*?>'\n",
        "\n",
        "def preprocess_text(text):\n",
        "\n",
        "  text = re.sub(pattern_html, '', text)\n",
        "\n",
        "  tokens = word_tokenize(text.lower())\n",
        "\n",
        "  tokens_filtered = [token for token in tokens if token not in stopwords]\n",
        "\n",
        "  tokens_filtered = [token for token in tokens_filtered if token not in string.punctuation]\n",
        "\n",
        "  tokens_filtered = [token for token in tokens_filtered if token.isalpha()]\n",
        "\n",
        "  tokens_lemmatized = [lemmatizer.lemmatize(token) for token in tokens_filtered]\n",
        "\n",
        "  preprocessed_text = ' '.join(tokens_lemmatized)\n",
        "\n",
        "  return preprocessed_text"
      ]
    },
    {
      "cell_type": "markdown",
      "source": [
        "Na konec předzpracované tokeny opět spojíme a vrátíme jako jeden řetězec."
      ],
      "metadata": {
        "id": "hwBuVY3ElQR1"
      },
      "id": "hwBuVY3ElQR1"
    },
    {
      "cell_type": "markdown",
      "source": [
        "Tuto pipeline nyní aplikujeme na všechny recenze v datasetu."
      ],
      "metadata": {
        "id": "ddB-KexQkz5c"
      },
      "id": "ddB-KexQkz5c"
    },
    {
      "cell_type": "code",
      "execution_count": null,
      "id": "d614e586",
      "metadata": {
        "id": "d614e586"
      },
      "outputs": [],
      "source": [
        "reviews['text'] = reviews['text'].apply(preprocess_text)"
      ]
    },
    {
      "cell_type": "markdown",
      "source": [
        "Nyní se lze podívat na předzpracovaný text."
      ],
      "metadata": {
        "id": "nNXf1vqVm-k0"
      },
      "id": "nNXf1vqVm-k0"
    },
    {
      "cell_type": "code",
      "source": [
        "reviews['text'][123]"
      ],
      "metadata": {
        "colab": {
          "base_uri": "https://localhost:8080/"
        },
        "id": "vq4g9NEKm4co",
        "outputId": "80a7c559-1834-4593-b246-bec0c0c02887"
      },
      "id": "vq4g9NEKm4co",
      "execution_count": null,
      "outputs": [
        {
          "output_type": "execute_result",
          "data": {
            "text/plain": [
              "'really enjoyed big fan movie mess mind leave lot question idea debate stellar example terry gilliam always good well almost always let forget jabberwocky brother grimm shall particularly liked way handled time travel theme avoidance paradox way event past future intertwined fed also really well done aesthetically art direction really great wish able see big screen future scene similar feel brazil lot way even present scene often really visually perhaps striking thing featured two actor normally much like bruce willis brad pitt delivered amazing performance pitt especially seen one two film made realize could fact actually act contrary originally thought one really outdid actually found asking friend one point sure brad pitt probably memorable performance career though admittedly may saying much'"
            ],
            "application/vnd.google.colaboratory.intrinsic+json": {
              "type": "string"
            }
          },
          "metadata": {},
          "execution_count": 19
        }
      ]
    },
    {
      "cell_type": "markdown",
      "id": "5033ac31",
      "metadata": {
        "id": "5033ac31"
      },
      "source": [
        "## 3. Analýza sentimentu pomocí slovníkových metod"
      ]
    },
    {
      "cell_type": "markdown",
      "source": [
        "V této kapitole využijeme dvě metody pro analýzy sentimentu z knihovny NLTK: VADER a SentiWordNet. Jedná se slovníkové metody založené na pravidlech."
      ],
      "metadata": {
        "id": "vzVNZXqBnBWY"
      },
      "id": "vzVNZXqBnBWY"
    },
    {
      "cell_type": "markdown",
      "source": [
        "### 3.1 VADER"
      ],
      "metadata": {
        "id": "RVZiIoWYofiG"
      },
      "id": "RVZiIoWYofiG"
    },
    {
      "cell_type": "markdown",
      "source": [
        "VADER (Valence Aware Dictionary and Sentiment Reasoner) je lexikon a nástroj pro analýzu sentimentu založený na pravidlech. Používá předdefinovaný lexikon, kde jednotlivá slova mají přiřazené skóre sentimentu.\n",
        "\n",
        "https://www.nltk.org/_modules/nltk/sentiment/vader.html"
      ],
      "metadata": {
        "id": "kCmUWy9XoefG"
      },
      "id": "kCmUWy9XoefG"
    },
    {
      "cell_type": "code",
      "execution_count": null,
      "id": "b490bb36",
      "metadata": {
        "id": "b490bb36"
      },
      "outputs": [],
      "source": [
        "reviews_vader = reviews.copy()"
      ]
    },
    {
      "cell_type": "markdown",
      "source": [
        "Vytvoříme instanci VADER, která bude pro každou recenzi vracet normalizované skóre od -1 do 1. Pozitivní hodnoty znační kladnou valenci a negativní hodnoty značí negativní valenci.\n",
        "\n",
        "https://www.nltk.org/_modules/nltk/sentiment/sentiment_analyzer.html\n",
        "\n",
        "Prahová hodnota pro klasifikaci je 0."
      ],
      "metadata": {
        "id": "MgFdvLSEpIbr"
      },
      "id": "MgFdvLSEpIbr"
    },
    {
      "cell_type": "code",
      "execution_count": null,
      "id": "0cebadd6",
      "metadata": {
        "id": "0cebadd6"
      },
      "outputs": [],
      "source": [
        "vader = SentimentIntensityAnalyzer()\n",
        "\n",
        "def get_sentiment_vader(text):\n",
        "    scores = vader.polarity_scores(text)\n",
        "\n",
        "    threshhold = 0\n",
        "\n",
        "    if scores['compound'] > threshhold:\n",
        "        return 1\n",
        "    else:\n",
        "        return 0"
      ]
    },
    {
      "cell_type": "code",
      "execution_count": null,
      "id": "1b16c66c",
      "metadata": {
        "id": "1b16c66c"
      },
      "outputs": [],
      "source": [
        "reviews_vader['prediction'] = reviews_vader['text'].apply(get_sentiment_vader)"
      ]
    },
    {
      "cell_type": "markdown",
      "source": [
        "Nyní provedeme evaluaci této metody. Spočítáme správnost a vizualizujeme také matici záměn."
      ],
      "metadata": {
        "id": "Gvw1Fi5asA6q"
      },
      "id": "Gvw1Fi5asA6q"
    },
    {
      "cell_type": "code",
      "source": [
        "print(accuracy(reviews_vader['label'], reviews_vader['prediction']))"
      ],
      "metadata": {
        "colab": {
          "base_uri": "https://localhost:8080/"
        },
        "id": "Ti0AObZNtZx7",
        "outputId": "b0b6492a-1c00-4b65-e0cb-2f846881d3f0"
      },
      "id": "Ti0AObZNtZx7",
      "execution_count": null,
      "outputs": [
        {
          "output_type": "stream",
          "name": "stdout",
          "text": [
            "0.6736\n"
          ]
        }
      ]
    },
    {
      "cell_type": "code",
      "execution_count": null,
      "id": "8576d640",
      "metadata": {
        "id": "8576d640",
        "outputId": "7d6b5371-b937-4daa-dd01-27c4df767ca1",
        "colab": {
          "base_uri": "https://localhost:8080/",
          "height": 472
        }
      },
      "outputs": [
        {
          "output_type": "display_data",
          "data": {
            "text/plain": [
              "<Figure size 640x480 with 2 Axes>"
            ],
            "image/png": "[encoded data removed]"
          },
          "metadata": {}
        }
      ],
      "source": [
        "ConfusionMatrixDisplay.from_predictions(\n",
        "  reviews_vader['label'],\n",
        "  reviews_vader['prediction'],\n",
        "  display_labels=[1, 0]\n",
        "  )\n",
        "plt.title('Confusion Matrix - VADER')\n",
        "plt.show()"
      ]
    },
    {
      "cell_type": "markdown",
      "source": [
        "### 3.2 SentiWordNet"
      ],
      "metadata": {
        "id": "SZvjprkdfKY9"
      },
      "id": "SZvjprkdfKY9"
    },
    {
      "cell_type": "markdown",
      "source": [
        "SentiWordNet je lexikální zdroj pro opining mining. SentiWordNet přiřazuje každému synsetu WordNetu tři skóre sentimentu: pozitivitu, negativitu nebo objektivitu.\n",
        "\n",
        "https://www.nltk.org/_modules/nltk/corpus/reader/sentiwordnet.html"
      ],
      "metadata": {
        "id": "1E5XD1cne2EE"
      },
      "id": "1E5XD1cne2EE"
    },
    {
      "cell_type": "code",
      "source": [
        "reviews_swn = reviews.copy()"
      ],
      "metadata": {
        "id": "WHmUVrFFci8x"
      },
      "id": "WHmUVrFFci8x",
      "execution_count": null,
      "outputs": []
    },
    {
      "cell_type": "markdown",
      "source": [
        "Na začátek si vytvoříme funkci, která převádí tagy z formátu Penn Treebank (defaultně používané v knihovně NLTK) na WordNet tagy, jelikož budeme pracovat s lexikální databází WordNet."
      ],
      "metadata": {
        "id": "FFWKCD8o3u-o"
      },
      "id": "FFWKCD8o3u-o"
    },
    {
      "cell_type": "code",
      "source": [
        "def penn_to_wn(tag):\n",
        "    if tag.startswith('J'):\n",
        "        return wordnet.ADJ\n",
        "    elif tag.startswith('V'):\n",
        "        return wordnet.VERB\n",
        "    elif tag.startswith('N'):\n",
        "        return wordnet.NOUN\n",
        "    elif tag.startswith('R'):\n",
        "        return wordnet.ADV\n",
        "    else:\n",
        "        return None"
      ],
      "metadata": {
        "id": "MWzhL99wfkdj"
      },
      "id": "MWzhL99wfkdj",
      "execution_count": null,
      "outputs": []
    },
    {
      "cell_type": "markdown",
      "source": [
        "Nyní vytvoříme funkci, která spočítá skóre recenze pomocí lexikonu WordNet.\n",
        "\n",
        "\n",
        "Každou recenzi tokenizujeme a pro každý token určíme slovní druh (POS tagging). Po převedení tagů na WordNet tagy se pro každý token získají synsety z WordNetu.\n",
        "\n",
        "Každé slovo může mít více synsetů (synonym) a tak se vždy vybere pouze ten první, který je v rámci hierarchie nejpravděpodobnější význam daného slova.\n",
        "\n",
        "Pro vybraný výraz se spočítá jeho sentiment skóre jako rozdíl mezi pozitivním a negativním skórem.\n",
        "\n",
        "Tento proces poté opakujeme pro každé slovo každé recenze."
      ],
      "metadata": {
        "id": "t2mf1s7e4blP"
      },
      "id": "t2mf1s7e4blP"
    },
    {
      "cell_type": "code",
      "source": [
        "def get_sentiment_sentiwordnet(text):\n",
        "    tokens = word_tokenize(text)\n",
        "    tokens_tagged = pos_tag(tokens)\n",
        "\n",
        "    sentiment_score = 0\n",
        "    count = 0\n",
        "\n",
        "    for word, tag in tokens_tagged:\n",
        "        wn_tag = penn_to_wn(tag)\n",
        "        if not wn_tag:\n",
        "            continue\n",
        "\n",
        "        synsets = wordnet.synsets(word, pos=wn_tag)\n",
        "        if not synsets:\n",
        "            continue\n",
        "\n",
        "        synset = synsets[0]\n",
        "        swn_synset = sentiwordnet.senti_synset(synset.name())\n",
        "\n",
        "        sentiment_score += swn_synset.pos_score() - swn_synset.neg_score()\n",
        "        count += 1\n",
        "\n",
        "    if count == 0:\n",
        "        return 0\n",
        "    else:\n",
        "        return sentiment_score / count"
      ],
      "metadata": {
        "id": "WRndRMuNfxjp"
      },
      "id": "WRndRMuNfxjp",
      "execution_count": null,
      "outputs": []
    },
    {
      "cell_type": "code",
      "source": [
        "reviews_swn['prediction'] = reviews_swn['text'].apply(get_sentiment_sentiwordnet)"
      ],
      "metadata": {
        "id": "nUY6D_1OgDWR"
      },
      "id": "nUY6D_1OgDWR",
      "execution_count": null,
      "outputs": []
    },
    {
      "cell_type": "markdown",
      "source": [
        "Na základě získané kumulativní predikce ze všech slov textu se nyní provede klasifikace buď jako pozitivní nebo negativní sentiment pro celou recenzi."
      ],
      "metadata": {
        "id": "HaRZPfdY6fYn"
      },
      "id": "HaRZPfdY6fYn"
    },
    {
      "cell_type": "code",
      "source": [
        "def classify_prediction(score):\n",
        "  if score > 0:\n",
        "    return 1\n",
        "  else:\n",
        "    return 0"
      ],
      "metadata": {
        "id": "wmruUuj2diMy"
      },
      "id": "wmruUuj2diMy",
      "execution_count": null,
      "outputs": []
    },
    {
      "cell_type": "code",
      "source": [
        "reviews_swn['predicted_label'] = reviews_swn['prediction'].apply(classify_prediction)"
      ],
      "metadata": {
        "id": "XC7ewjMFd3CM"
      },
      "id": "XC7ewjMFd3CM",
      "execution_count": null,
      "outputs": []
    },
    {
      "cell_type": "markdown",
      "source": [
        "Nyní provedeme evaluaci této metody. Spočítáme správnost a vizualizujeme také matici záměn."
      ],
      "metadata": {
        "id": "qUpfW1j86--h"
      },
      "id": "qUpfW1j86--h"
    },
    {
      "cell_type": "code",
      "source": [
        "print(accuracy(reviews_swn['label'], reviews_swn['predicted_label']))"
      ],
      "metadata": {
        "colab": {
          "base_uri": "https://localhost:8080/"
        },
        "id": "_DaF1olY60vB",
        "outputId": "05f51a65-057f-4eb7-8487-a11d479c95b4"
      },
      "id": "_DaF1olY60vB",
      "execution_count": null,
      "outputs": [
        {
          "output_type": "stream",
          "name": "stdout",
          "text": [
            "0.6367\n"
          ]
        }
      ]
    },
    {
      "cell_type": "code",
      "source": [
        "ConfusionMatrixDisplay.from_predictions(\n",
        "  reviews_swn['label'],\n",
        "  reviews_swn['predicted_label'],\n",
        "  display_labels=[1, 0]\n",
        "  )\n",
        "plt.title('Confusion Matrix - SentiWordNet')\n",
        "plt.show()"
      ],
      "metadata": {
        "colab": {
          "base_uri": "https://localhost:8080/",
          "height": 472
        },
        "id": "deQgr6qletPv",
        "outputId": "bf0051d2-4661-4cae-ffb5-0aac9af54e0a"
      },
      "id": "deQgr6qletPv",
      "execution_count": null,
      "outputs": [
        {
          "output_type": "display_data",
          "data": {
            "text/plain": [
              "<Figure size 640x480 with 2 Axes>"
            ],
            "image/png": "[encoded data removed]"
          },
          "metadata": {}
        }
      ]
    },
    {
      "cell_type": "markdown",
      "id": "4b829824",
      "metadata": {
        "id": "4b829824"
      },
      "source": [
        "## 4. Feature Extraction"
      ]
    },
    {
      "cell_type": "markdown",
      "source": [
        "V této kapitole provedeme pomocí různých metod extrakci rysů , které jsou nezbytné pro učení machine learning klasifikátorů."
      ],
      "metadata": {
        "id": "vD8CRxX6-gfw"
      },
      "id": "vD8CRxX6-gfw"
    },
    {
      "cell_type": "markdown",
      "source": [
        "Recenze a jejich sentimenty převedeme do podoby listu pro další práci."
      ],
      "metadata": {
        "id": "oQd1P9kL-06G"
      },
      "id": "oQd1P9kL-06G"
    },
    {
      "cell_type": "code",
      "execution_count": null,
      "id": "0bfc46c7",
      "metadata": {
        "id": "0bfc46c7"
      },
      "outputs": [],
      "source": [
        "documents = [(list(word_tokenize(review)), label) for review, label in zip(reviews['text'], reviews['label'])]\n",
        "random.shuffle(documents)"
      ]
    },
    {
      "cell_type": "markdown",
      "source": [
        "Pomocí funkce `FreqDist()` vytvoříme slovník pro náš dataset, který bude obsahovat všechna unikátní slova, která se v něm vyskytují.\n",
        "\n",
        "\n",
        "\n",
        "https://www.nltk.org/api/nltk.probability.FreqDist.html"
      ],
      "metadata": {
        "id": "brOUwjOi_LXs"
      },
      "id": "brOUwjOi_LXs"
    },
    {
      "cell_type": "code",
      "execution_count": null,
      "id": "3ceb467f",
      "metadata": {
        "id": "3ceb467f"
      },
      "outputs": [],
      "source": [
        "all_words = FreqDist(w.lower() for review in reviews['text'] for w in word_tokenize(review))"
      ]
    },
    {
      "cell_type": "markdown",
      "source": [
        "Nyní si můžeme nechat vypsat 10 nejčastějších slov."
      ],
      "metadata": {
        "id": "6Yppd9vS_3Vb"
      },
      "id": "6Yppd9vS_3Vb"
    },
    {
      "cell_type": "code",
      "source": [
        "all_words.most_common(n=10)"
      ],
      "metadata": {
        "colab": {
          "base_uri": "https://localhost:8080/"
        },
        "id": "r8XCQ2D2_xSX",
        "outputId": "7250f7a3-42de-44cc-ed57-d0bdf8828afb"
      },
      "id": "r8XCQ2D2_xSX",
      "execution_count": null,
      "outputs": [
        {
          "output_type": "execute_result",
          "data": {
            "text/plain": [
              "[('movie', 39857),\n",
              " ('film', 35857),\n",
              " ('one', 21165),\n",
              " ('like', 16116),\n",
              " ('time', 11953),\n",
              " ('good', 11592),\n",
              " ('character', 11088),\n",
              " ('would', 10520),\n",
              " ('get', 9981),\n",
              " ('even', 9884)]"
            ]
          },
          "metadata": {},
          "execution_count": 22
        }
      ]
    },
    {
      "cell_type": "markdown",
      "source": [
        "Jelikož se jedná o filmové recenze, vidíme, že slova jako 'movie' a 'film' se v textech objevují nejvíce.\n",
        "\n",
        "Dále je možné zjistit frekvence pro jednotlivá slova."
      ],
      "metadata": {
        "id": "5NXCcIlXAA2A"
      },
      "id": "5NXCcIlXAA2A"
    },
    {
      "cell_type": "code",
      "source": [
        "print(all_words['love'])\n",
        "print(all_words['terrible'])\n",
        "print(all_words['character'])\n",
        "print(all_words['plot'])\n",
        "print(all_words['banana'])"
      ],
      "metadata": {
        "colab": {
          "base_uri": "https://localhost:8080/"
        },
        "id": "jh8udUbPAHL5",
        "outputId": "dc990064-e343-4484-eefc-e17aae580824"
      },
      "id": "jh8udUbPAHL5",
      "execution_count": null,
      "outputs": [
        {
          "output_type": "stream",
          "name": "stdout",
          "text": [
            "5467\n",
            "1307\n",
            "11088\n",
            "5233\n",
            "37\n"
          ]
        }
      ]
    },
    {
      "cell_type": "code",
      "execution_count": null,
      "id": "a54cea1c",
      "metadata": {
        "id": "a54cea1c",
        "outputId": "d988de3c-cc15-4bac-9b63-22bd5758d303",
        "colab": {
          "base_uri": "https://localhost:8080/"
        }
      },
      "outputs": [
        {
          "output_type": "stream",
          "name": "stdout",
          "text": [
            "Vocabulary size: 60645\n"
          ]
        }
      ],
      "source": [
        "print(\"Vocabulary size:\", len(all_words))"
      ]
    },
    {
      "cell_type": "markdown",
      "id": "eedc33ff",
      "metadata": {
        "id": "eedc33ff"
      },
      "source": [
        "### 4.1 Unigram"
      ]
    },
    {
      "cell_type": "markdown",
      "source": [
        "Jako první z textů extrahujeme unigramy.\n",
        "\n",
        "Pro každý dokument se extrahují všechna jeho slova a jejich frekvence v textu."
      ],
      "metadata": {
        "id": "UNUgsL8vBeec"
      },
      "id": "UNUgsL8vBeec"
    },
    {
      "cell_type": "code",
      "execution_count": null,
      "id": "17e5cb7e",
      "metadata": {
        "id": "17e5cb7e"
      },
      "outputs": [],
      "source": [
        "def document_unigram_features(document):\n",
        "    unigrams = {}\n",
        "    for token in document:\n",
        "        if token in unigrams:\n",
        "            unigrams[token] += 1\n",
        "        else:\n",
        "            unigrams[token] = 1\n",
        "    return unigrams"
      ]
    },
    {
      "cell_type": "code",
      "execution_count": null,
      "id": "770767b9",
      "metadata": {
        "id": "770767b9"
      },
      "outputs": [],
      "source": [
        "features_uni = [(document_unigram_features(d), c) for (d, c) in documents]"
      ]
    },
    {
      "cell_type": "markdown",
      "id": "b457aff3",
      "metadata": {
        "id": "b457aff3"
      },
      "source": [
        "### 4.2 Bigram"
      ]
    },
    {
      "cell_type": "markdown",
      "source": [
        "Dále extrahujeme stejným způsobem bigramy, tedy dvojice slov. V tomto případě si pomůžeme nástrojem z knihovny NLTK na extrakci slovních bigramů.\n",
        "\n",
        "https://www.nltk.org/api/nltk.collocations.BigramCollocationFinder.html"
      ],
      "metadata": {
        "id": "HUfkgSmyDkfp"
      },
      "id": "HUfkgSmyDkfp"
    },
    {
      "cell_type": "code",
      "execution_count": null,
      "id": "582547d5",
      "metadata": {
        "id": "582547d5"
      },
      "outputs": [],
      "source": [
        "def document_bigram_features(document):\n",
        "    bigrams = {}\n",
        "    bigram_finder = BigramCollocationFinder.from_words(document)\n",
        "    for bigram, freq in bigram_finder.ngram_fd.items():\n",
        "      bigrams[bigram] = freq\n",
        "    return bigrams"
      ]
    },
    {
      "cell_type": "code",
      "execution_count": null,
      "id": "0621df55",
      "metadata": {
        "id": "0621df55"
      },
      "outputs": [],
      "source": [
        "features_bi = [(document_bigram_features(d), c) for (d, c) in documents]"
      ]
    },
    {
      "cell_type": "markdown",
      "id": "fdf373d4",
      "metadata": {
        "id": "fdf373d4"
      },
      "source": [
        "### 4.3 Trigram"
      ]
    },
    {
      "cell_type": "markdown",
      "source": [
        "Nyní obdobně extrahujeme trigramy, tedy trojice slov.\n",
        "\n",
        "https://www.nltk.org/api/nltk.collocations.TrigramCollocationFinder.html"
      ],
      "metadata": {
        "id": "KBHqN2imcegv"
      },
      "id": "KBHqN2imcegv"
    },
    {
      "cell_type": "code",
      "execution_count": null,
      "id": "926cf9ad",
      "metadata": {
        "id": "926cf9ad"
      },
      "outputs": [],
      "source": [
        "def document_trigram_features(document):\n",
        "    trigrams = {}\n",
        "    trigram_finder = TrigramCollocationFinder.from_words(document)\n",
        "    for trigram, freq in trigram_finder.ngram_fd.items():\n",
        "      trigrams[trigram] = freq\n",
        "    return trigrams"
      ]
    },
    {
      "cell_type": "code",
      "execution_count": null,
      "id": "21761120",
      "metadata": {
        "id": "21761120"
      },
      "outputs": [],
      "source": [
        "features_tri = [(document_trigram_features(d), c) for (d, c) in documents]"
      ]
    },
    {
      "cell_type": "markdown",
      "id": "4875adaa",
      "metadata": {
        "id": "4875adaa"
      },
      "source": [
        "### 4.4 Word2Vec"
      ]
    },
    {
      "cell_type": "markdown",
      "source": [
        "Na konec pomocí knihovny Gensim extrahujeme vektory slovních vnoření pomocí algoritmu Word2Vec."
      ],
      "metadata": {
        "id": "vShEnyMBiyTk"
      },
      "id": "vShEnyMBiyTk"
    },
    {
      "cell_type": "code",
      "execution_count": null,
      "id": "df4fd950",
      "metadata": {
        "id": "df4fd950"
      },
      "outputs": [],
      "source": [
        "tokenized_text = [word_tokenize(review) for review in reviews['text']]"
      ]
    },
    {
      "cell_type": "markdown",
      "source": [
        "https://radimrehurek.com/gensim/models/word2vec.html\n",
        "\n",
        "V tomto případě se jedná o vektor s 300 dimenzemi a CBOW přístupem. Model se bude trénovat 20 epoch."
      ],
      "metadata": {
        "id": "euf4ZrlwjEAy"
      },
      "id": "euf4ZrlwjEAy"
    },
    {
      "cell_type": "code",
      "execution_count": null,
      "id": "cfaf450f",
      "metadata": {
        "id": "cfaf450f"
      },
      "outputs": [],
      "source": [
        "EMBEDDING_DIM = 300\n",
        "EPOCHS = 20\n",
        "WINDOW_SIZE = 5\n",
        "MIN_COUNT = 1\n",
        "SG = 0\n",
        "\n",
        "w2v_model = Word2Vec(\n",
        "  tokenized_text,\n",
        "  vector_size=EMBEDDING_DIM,\n",
        "  window=WINDOW_SIZE,\n",
        "  min_count=MIN_COUNT,\n",
        "  sg=SG,\n",
        "  epochs=EPOCHS\n",
        "  )"
      ]
    },
    {
      "cell_type": "markdown",
      "source": [
        "Funkce, která z modelu extrahuje vektory vnoření pro jednotlivé dokumenty."
      ],
      "metadata": {
        "id": "dUfGCs6nkaR-"
      },
      "id": "dUfGCs6nkaR-"
    },
    {
      "cell_type": "code",
      "execution_count": null,
      "id": "ccd62025",
      "metadata": {
        "id": "ccd62025"
      },
      "outputs": [],
      "source": [
        "def get_word_embeddings(document, model):\n",
        "  embeddings = []\n",
        "  for word in document:\n",
        "    if word in model.wv.key_to_index:\n",
        "      embeddings.append(model.wv[word])\n",
        "    return embeddings"
      ]
    },
    {
      "cell_type": "markdown",
      "source": [
        "Funkce, která převede vektor vnoření do podoby, která je akceptována NLTK klasifikátory."
      ],
      "metadata": {
        "id": "LcrMurFRkkwA"
      },
      "id": "LcrMurFRkkwA"
    },
    {
      "cell_type": "code",
      "execution_count": null,
      "id": "a9757422",
      "metadata": {
        "id": "a9757422"
      },
      "outputs": [],
      "source": [
        "def document_w2v_features(document):\n",
        "  features = {}\n",
        "  word_embeddings = get_word_embeddings(document, w2v_model)\n",
        "  if word_embeddings:\n",
        "    embeddings = np.mean(word_embeddings, axis=0)\n",
        "    for idx, value in enumerate(embeddings):\n",
        "      features[f'dim_{idx}'] = value\n",
        "  return features"
      ]
    },
    {
      "cell_type": "code",
      "execution_count": null,
      "id": "59565517",
      "metadata": {
        "id": "59565517"
      },
      "outputs": [],
      "source": [
        "features_w2v = [(document_w2v_features(d), c) for (d, c) in documents]"
      ]
    },
    {
      "cell_type": "markdown",
      "source": [
        "## 5. Analýza sentimentu pomocí klasifikátorů"
      ],
      "metadata": {
        "id": "BDnSwtDxk7HV"
      },
      "id": "BDnSwtDxk7HV"
    },
    {
      "cell_type": "markdown",
      "source": [
        "V této kapitole provedeme analýzu sentimentu pomocí klasifikátorů strojového učení:\n",
        "- naivní bayesovský klasifikátor\n",
        "- logistická regrese\n",
        "- support vector machines"
      ],
      "metadata": {
        "id": "zI3rNV3SlOjz"
      },
      "id": "zI3rNV3SlOjz"
    },
    {
      "cell_type": "markdown",
      "source": [
        "Jelikož se jedná o modely, které se učí vzory, je v tomto případě nutné data rozdělit na trénovací a testovací množinu. Data rozdělíme v podílu 80/20."
      ],
      "metadata": {
        "id": "Dcw1-Wu6lWTj"
      },
      "id": "Dcw1-Wu6lWTj"
    },
    {
      "cell_type": "markdown",
      "source": [
        "https://scikit-learn.org/stable/modules/generated/sklearn.model_selection.train_test_split.html"
      ],
      "metadata": {
        "id": "ldPc7XhhlyjU"
      },
      "id": "ldPc7XhhlyjU"
    },
    {
      "cell_type": "code",
      "execution_count": null,
      "id": "91bb5479",
      "metadata": {
        "id": "91bb5479"
      },
      "outputs": [],
      "source": [
        "train_set_uni, test_set_uni = train_test_split(features_uni, test_size=0.2, random_state=123, shuffle=True)\n",
        "train_set_bi, test_set_bi = train_test_split(features_bi, test_size=0.2, random_state=123, shuffle=True)\n",
        "train_set_tri, test_set_tri = train_test_split(features_tri, test_size=0.2, random_state=123, shuffle=True)\n",
        "train_set_w2v, test_set_w2v = train_test_split(features_w2v, test_size=0.2, random_state=123, shuffle=True)"
      ]
    },
    {
      "cell_type": "markdown",
      "source": [
        "Pro evaluace modelů si také extrahujeme skutečné hodnoty sentimentů."
      ],
      "metadata": {
        "id": "NipidmEyn0Bp"
      },
      "id": "NipidmEyn0Bp"
    },
    {
      "cell_type": "code",
      "source": [
        "uni_test_true = [label for (features, label) in test_set_uni]\n",
        "bi_test_true = [label for (features, label) in test_set_bi]\n",
        "tri_test_true = [label for (features, label) in test_set_tri]\n",
        "w2v_test_true = [label for (features, label) in test_set_w2v]"
      ],
      "metadata": {
        "id": "roMn7uFKnzMR"
      },
      "id": "roMn7uFKnzMR",
      "execution_count": null,
      "outputs": []
    },
    {
      "cell_type": "markdown",
      "id": "a35a1ed5",
      "metadata": {
        "id": "a35a1ed5"
      },
      "source": [
        "### 5.1 Naive Bayes"
      ]
    },
    {
      "cell_type": "markdown",
      "source": [
        "Naivní Bayesovy metody jsou souborem algoritmů učení s dohledem založených na použití Bayesovy věty s naivní předpokladem podmíněné nezávislosti mezi každou dvojicí rysů danou hodnotou proměnné třídy.\n",
        "\n",
        "https://www.nltk.org/_modules/nltk/classify/naivebayes.html"
      ],
      "metadata": {
        "id": "L3JiB-xMl2E1"
      },
      "id": "L3JiB-xMl2E1"
    },
    {
      "cell_type": "markdown",
      "source": [
        "#### 5.1.1 Unigrams"
      ],
      "metadata": {
        "id": "V43Eu6CvmvJE"
      },
      "id": "V43Eu6CvmvJE"
    },
    {
      "cell_type": "code",
      "execution_count": null,
      "id": "ff0003de",
      "metadata": {
        "id": "ff0003de"
      },
      "outputs": [],
      "source": [
        "nb_uni = NaiveBayesClassifier.train(train_set_uni)\n",
        "nb_uni_pred = [nb_uni.classify(features) for (features, label) in test_set_uni]"
      ]
    },
    {
      "cell_type": "code",
      "source": [
        "print(round(accuracy(uni_test_true, nb_uni_pred), 4))"
      ],
      "metadata": {
        "colab": {
          "base_uri": "https://localhost:8080/"
        },
        "id": "8R4MgBVfpJQn",
        "outputId": "d81439f4-39c3-47a4-bcb2-dc4fad2b1352"
      },
      "id": "8R4MgBVfpJQn",
      "execution_count": null,
      "outputs": [
        {
          "output_type": "stream",
          "name": "stdout",
          "text": [
            "0.8413\n"
          ]
        }
      ]
    },
    {
      "cell_type": "code",
      "source": [
        "ConfusionMatrixDisplay.from_predictions(\n",
        "    uni_test_true,\n",
        "    nb_uni_pred,\n",
        "    display_labels=[1, 0]\n",
        "    )\n",
        "plt.title('Confusion Matrix - Naive Bayes with unigrams')\n",
        "plt.show()"
      ],
      "metadata": {
        "colab": {
          "base_uri": "https://localhost:8080/",
          "height": 472
        },
        "id": "0q9hnUBrpGRz",
        "outputId": "2c3a588c-56fb-4d23-83f3-3e6b334a251f"
      },
      "id": "0q9hnUBrpGRz",
      "execution_count": null,
      "outputs": [
        {
          "output_type": "display_data",
          "data": {
            "text/plain": [
              "<Figure size 640x480 with 2 Axes>"
            ],
            "image/png": "[encoded data removed]"
          },
          "metadata": {}
        }
      ]
    },
    {
      "cell_type": "markdown",
      "source": [
        "#### 5.1.2 Bigrams"
      ],
      "metadata": {
        "id": "6gXxw52IqVYZ"
      },
      "id": "6gXxw52IqVYZ"
    },
    {
      "cell_type": "code",
      "execution_count": null,
      "id": "9775f8e2",
      "metadata": {
        "id": "9775f8e2"
      },
      "outputs": [],
      "source": [
        "nb_bi = NaiveBayesClassifier.train(train_set_bi)\n",
        "nb_bi_pred = [nb_bi.classify(features) for (features, label) in test_set_bi]"
      ]
    },
    {
      "cell_type": "code",
      "execution_count": null,
      "id": "aa09d0b1",
      "metadata": {
        "id": "aa09d0b1",
        "outputId": "9ab6b052-4e2e-422d-f38f-40ae9d78141e",
        "colab": {
          "base_uri": "https://localhost:8080/"
        }
      },
      "outputs": [
        {
          "output_type": "stream",
          "name": "stdout",
          "text": [
            "0.8518\n"
          ]
        }
      ],
      "source": [
        "print(round(accuracy(bi_test_true, nb_bi_pred), 4))"
      ]
    },
    {
      "cell_type": "code",
      "source": [
        "ConfusionMatrixDisplay.from_predictions(\n",
        "    bi_test_true,\n",
        "    nb_bi_pred,\n",
        "    display_labels=[1, 0]\n",
        "    )\n",
        "plt.title('Confusion Matrix - Naive Bayes with bigrams')\n",
        "plt.show()"
      ],
      "metadata": {
        "colab": {
          "base_uri": "https://localhost:8080/",
          "height": 472
        },
        "id": "Bjf3e2T6zAeW",
        "outputId": "891ad69c-3200-4d22-dc35-c793a149ca46"
      },
      "id": "Bjf3e2T6zAeW",
      "execution_count": null,
      "outputs": [
        {
          "output_type": "display_data",
          "data": {
            "text/plain": [
              "<Figure size 640x480 with 2 Axes>"
            ],
            "image/png": "[encoded data removed]"
          },
          "metadata": {}
        }
      ]
    },
    {
      "cell_type": "markdown",
      "source": [
        "#### 5.1.3 Trigrams"
      ],
      "metadata": {
        "id": "yQW6xHQbzp4E"
      },
      "id": "yQW6xHQbzp4E"
    },
    {
      "cell_type": "code",
      "source": [
        "nb_tri = NaiveBayesClassifier.train(train_set_tri)\n",
        "nb_tri_pred = [nb_tri.classify(features) for (features, label) in test_set_tri]"
      ],
      "metadata": {
        "id": "kKeollCfztlF"
      },
      "id": "kKeollCfztlF",
      "execution_count": null,
      "outputs": []
    },
    {
      "cell_type": "code",
      "source": [
        "print(round(accuracy(tri_test_true, nb_tri_pred), 4))"
      ],
      "metadata": {
        "colab": {
          "base_uri": "https://localhost:8080/"
        },
        "id": "8FVJX8dY0WZT",
        "outputId": "c7673ffe-ac61-4d74-9908-e1283eb6f22c"
      },
      "id": "8FVJX8dY0WZT",
      "execution_count": null,
      "outputs": [
        {
          "output_type": "stream",
          "name": "stdout",
          "text": [
            "0.7438\n"
          ]
        }
      ]
    },
    {
      "cell_type": "code",
      "source": [
        "ConfusionMatrixDisplay.from_predictions(\n",
        "    tri_test_true,\n",
        "    nb_tri_pred,\n",
        "    display_labels=[1, 0]\n",
        "    )\n",
        "plt.title('Confusion Matrix - Naive Bayes with trigrams')\n",
        "plt.show()"
      ],
      "metadata": {
        "colab": {
          "base_uri": "https://localhost:8080/",
          "height": 472
        },
        "id": "7fqvW1Xm2JIF",
        "outputId": "7822dfd5-4119-4305-864b-e7239d8557e4"
      },
      "id": "7fqvW1Xm2JIF",
      "execution_count": null,
      "outputs": [
        {
          "output_type": "display_data",
          "data": {
            "text/plain": [
              "<Figure size 640x480 with 2 Axes>"
            ],
            "image/png": "[encoded data removed]"
          },
          "metadata": {}
        }
      ]
    },
    {
      "cell_type": "markdown",
      "source": [
        "#### 5.1.4 Word Embeddings"
      ],
      "metadata": {
        "id": "NUI6GNPe2QIN"
      },
      "id": "NUI6GNPe2QIN"
    },
    {
      "cell_type": "code",
      "source": [
        "nb_w2v = NaiveBayesClassifier.train(train_set_w2v)\n",
        "nb_w2v_pred = [nb_w2v.classify(features) for (features, label) in test_set_w2v]"
      ],
      "metadata": {
        "id": "TuHuvUV_2ZVH"
      },
      "id": "TuHuvUV_2ZVH",
      "execution_count": null,
      "outputs": []
    },
    {
      "cell_type": "code",
      "source": [
        "print(round(accuracy(w2v_test_true, nb_w2v_pred), 4))"
      ],
      "metadata": {
        "colab": {
          "base_uri": "https://localhost:8080/"
        },
        "id": "FFAaeV_S2uck",
        "outputId": "9b75a183-3fc7-49ee-b8b8-a31b1bdc49f5"
      },
      "id": "FFAaeV_S2uck",
      "execution_count": null,
      "outputs": [
        {
          "output_type": "stream",
          "name": "stdout",
          "text": [
            "0.577\n"
          ]
        }
      ]
    },
    {
      "cell_type": "code",
      "source": [
        "ConfusionMatrixDisplay.from_predictions(\n",
        "    w2v_test_true,\n",
        "    nb_w2v_pred,\n",
        "    display_labels=[1, 0]\n",
        "    )\n",
        "plt.title('Confusion Matrix - Naive Bayes with word embeddings')\n",
        "plt.show()"
      ],
      "metadata": {
        "colab": {
          "base_uri": "https://localhost:8080/",
          "height": 472
        },
        "id": "FHO6V_2w4Be_",
        "outputId": "963cce4f-86a5-4636-8b28-ee867fc54bf2"
      },
      "id": "FHO6V_2w4Be_",
      "execution_count": null,
      "outputs": [
        {
          "output_type": "display_data",
          "data": {
            "text/plain": [
              "<Figure size 640x480 with 2 Axes>"
            ],
            "image/png": "[encoded data removed]"
          },
          "metadata": {}
        }
      ]
    },
    {
      "cell_type": "markdown",
      "id": "558bc135",
      "metadata": {
        "id": "558bc135"
      },
      "source": [
        "### 5.2 Logistic Regression"
      ]
    },
    {
      "cell_type": "markdown",
      "source": [
        "Logistická regrese odhaduje pravděpodobnost výskytu určité události, například že respondent volil nebo nevolil, na základě daného souboru nezávislých proměnných.\n",
        "\n",
        "https://www.nltk.org/api/nltk.classify.scikitlearn.html"
      ],
      "metadata": {
        "id": "OH8vEE0y43pF"
      },
      "id": "OH8vEE0y43pF"
    },
    {
      "cell_type": "markdown",
      "source": [
        "#### 5.2.1 Unigrams"
      ],
      "metadata": {
        "id": "aSj0BWAkKqzp"
      },
      "id": "aSj0BWAkKqzp"
    },
    {
      "cell_type": "code",
      "source": [
        "lr_uni = SklearnClassifier(LogisticRegression(max_iter=1000)).train(train_set_uni)\n",
        "lr_uni_pred = [lr_uni.classify(features) for (features, label) in test_set_uni]"
      ],
      "metadata": {
        "id": "xzslcGTA5bbR"
      },
      "id": "xzslcGTA5bbR",
      "execution_count": null,
      "outputs": []
    },
    {
      "cell_type": "code",
      "source": [
        "print(round(accuracy(uni_test_true, lr_uni_pred), 4))"
      ],
      "metadata": {
        "colab": {
          "base_uri": "https://localhost:8080/"
        },
        "id": "Z97DXQB46glC",
        "outputId": "fb94aefc-6087-4639-97df-6eaca141a2fe"
      },
      "id": "Z97DXQB46glC",
      "execution_count": null,
      "outputs": [
        {
          "output_type": "stream",
          "name": "stdout",
          "text": [
            "0.8778\n"
          ]
        }
      ]
    },
    {
      "cell_type": "code",
      "source": [
        "ConfusionMatrixDisplay.from_predictions(\n",
        "    uni_test_true,\n",
        "    lr_uni_pred,\n",
        "    display_labels=[1, 0]\n",
        "    )\n",
        "plt.title('Confusion Matrix - Logistic Regression with unigrams')\n",
        "plt.show()"
      ],
      "metadata": {
        "colab": {
          "base_uri": "https://localhost:8080/",
          "height": 472
        },
        "id": "PD88eXTqK4ZG",
        "outputId": "06b3dc69-04fe-4876-fc6c-dbc0723a1bc4"
      },
      "id": "PD88eXTqK4ZG",
      "execution_count": null,
      "outputs": [
        {
          "output_type": "display_data",
          "data": {
            "text/plain": [
              "<Figure size 640x480 with 2 Axes>"
            ],
            "image/png": "[encoded data removed]"
          },
          "metadata": {}
        }
      ]
    },
    {
      "cell_type": "markdown",
      "source": [
        "#### 5.2.2 Bigrams"
      ],
      "metadata": {
        "id": "nm5gbObsLR5g"
      },
      "id": "nm5gbObsLR5g"
    },
    {
      "cell_type": "code",
      "source": [
        "lr_bi = SklearnClassifier(LogisticRegression(max_iter=1000)).train(train_set_bi)\n",
        "lr_bi_pred = [lr_bi.classify(features) for (features, label) in test_set_bi]"
      ],
      "metadata": {
        "id": "KWULlQnd63jS"
      },
      "id": "KWULlQnd63jS",
      "execution_count": null,
      "outputs": []
    },
    {
      "cell_type": "code",
      "source": [
        "print(round(accuracy(bi_test_true, lr_bi_pred), 4))"
      ],
      "metadata": {
        "colab": {
          "base_uri": "https://localhost:8080/"
        },
        "id": "UrJy4WAGjYP0",
        "outputId": "9f6af394-519b-4c2c-b5a2-524dacab3a0b"
      },
      "id": "UrJy4WAGjYP0",
      "execution_count": null,
      "outputs": [
        {
          "output_type": "stream",
          "name": "stdout",
          "text": [
            "0.835\n"
          ]
        }
      ]
    },
    {
      "cell_type": "code",
      "source": [
        "ConfusionMatrixDisplay.from_predictions(\n",
        "    bi_test_true,\n",
        "    lr_bi_pred,\n",
        "    display_labels=[1, 0]\n",
        "    )\n",
        "plt.title('Confusion Matrix - Logistic Regression with bigrams')\n",
        "plt.show()"
      ],
      "metadata": {
        "colab": {
          "base_uri": "https://localhost:8080/",
          "height": 472
        },
        "id": "UoEOrPchLulZ",
        "outputId": "e612ba77-899b-49ad-a5d0-a9bf087a07a2"
      },
      "id": "UoEOrPchLulZ",
      "execution_count": null,
      "outputs": [
        {
          "output_type": "display_data",
          "data": {
            "text/plain": [
              "<Figure size 640x480 with 2 Axes>"
            ],
            "image/png": "[encoded data removed]"
          },
          "metadata": {}
        }
      ]
    },
    {
      "cell_type": "markdown",
      "source": [
        "#### 5.2.3 Trigrams"
      ],
      "metadata": {
        "id": "6a77bYD0L-9r"
      },
      "id": "6a77bYD0L-9r"
    },
    {
      "cell_type": "code",
      "source": [
        "lr_tri = SklearnClassifier(LogisticRegression(max_iter=1000)).train(train_set_tri)\n",
        "lr_tri_pred = [lr_tri.classify(features) for (features, label) in test_set_tri]"
      ],
      "metadata": {
        "id": "7Gd7i55RDzJK"
      },
      "id": "7Gd7i55RDzJK",
      "execution_count": null,
      "outputs": []
    },
    {
      "cell_type": "code",
      "source": [
        "print(round(accuracy(tri_test_true, lr_tri_pred), 4))"
      ],
      "metadata": {
        "colab": {
          "base_uri": "https://localhost:8080/"
        },
        "id": "51iJIEVaD4Xj",
        "outputId": "df8783bd-a7f1-4b17-dd7f-a7b4488dfb5d"
      },
      "id": "51iJIEVaD4Xj",
      "execution_count": null,
      "outputs": [
        {
          "output_type": "stream",
          "name": "stdout",
          "text": [
            "0.696\n"
          ]
        }
      ]
    },
    {
      "cell_type": "code",
      "source": [
        "ConfusionMatrixDisplay.from_predictions(\n",
        "    tri_test_true,\n",
        "    lr_tri_pred,\n",
        "    display_labels=[1, 0]\n",
        "    )\n",
        "plt.title('Confusion Matrix - Logistic Regression with trigrams')\n",
        "plt.show()"
      ],
      "metadata": {
        "colab": {
          "base_uri": "https://localhost:8080/",
          "height": 472
        },
        "id": "7HJtf7tsMDSo",
        "outputId": "af40c214-1dc8-420c-c8a5-03a19c39a56c"
      },
      "id": "7HJtf7tsMDSo",
      "execution_count": null,
      "outputs": [
        {
          "output_type": "display_data",
          "data": {
            "text/plain": [
              "<Figure size 640x480 with 2 Axes>"
            ],
            "image/png": "[encoded data removed]"
          },
          "metadata": {}
        }
      ]
    },
    {
      "cell_type": "markdown",
      "source": [
        "#### 5.2.4 Word Embeddings"
      ],
      "metadata": {
        "id": "imT4LldPMj1Q"
      },
      "id": "imT4LldPMj1Q"
    },
    {
      "cell_type": "code",
      "source": [
        "lr_w2v = SklearnClassifier(LogisticRegression(max_iter=1000)).train(train_set_w2v)\n",
        "lr_w2v_pred = [lr_w2v.classify(features) for (features, label) in test_set_w2v]"
      ],
      "metadata": {
        "id": "uxk3CL3FEbXK"
      },
      "id": "uxk3CL3FEbXK",
      "execution_count": null,
      "outputs": []
    },
    {
      "cell_type": "code",
      "source": [
        "print(round(accuracy(tri_test_true, lr_tri_pred), 4))"
      ],
      "metadata": {
        "id": "HLJ9NVd6Eq0b",
        "colab": {
          "base_uri": "https://localhost:8080/"
        },
        "outputId": "5424216c-ae83-4c51-9aba-fc30fe678c14"
      },
      "id": "HLJ9NVd6Eq0b",
      "execution_count": null,
      "outputs": [
        {
          "output_type": "stream",
          "name": "stdout",
          "text": [
            "0.696\n"
          ]
        }
      ]
    },
    {
      "cell_type": "code",
      "source": [
        "ConfusionMatrixDisplay.from_predictions(\n",
        "    w2v_test_true,\n",
        "    lr_w2v_pred,\n",
        "    display_labels=[1, 0]\n",
        "    )\n",
        "plt.title('Confusion Matrix - Logistic Regression with word embeddings')\n",
        "plt.show()"
      ],
      "metadata": {
        "colab": {
          "base_uri": "https://localhost:8080/",
          "height": 472
        },
        "id": "LtinWZW2M_fj",
        "outputId": "f861ac65-64d9-4355-f918-4847ea72505c"
      },
      "id": "LtinWZW2M_fj",
      "execution_count": null,
      "outputs": [
        {
          "output_type": "display_data",
          "data": {
            "text/plain": [
              "<Figure size 640x480 with 2 Axes>"
            ],
            "image/png": "[encoded data removed]"
          },
          "metadata": {}
        }
      ]
    },
    {
      "cell_type": "markdown",
      "source": [
        "### 5.3 Support Vector Machines"
      ],
      "metadata": {
        "id": "pANy-PElUHq-"
      },
      "id": "pANy-PElUHq-"
    },
    {
      "cell_type": "markdown",
      "source": [
        "Support Vector Machine (SVM) jsou sadou supervised learning metod, které se používají pro klasifikaci, regresi a detekci odlehlých hodnot.\n",
        "\n",
        "V tomto případě budeme používat LinearSVC, což je lineární varianta SVM.\n",
        "\n",
        "https://www.nltk.org/api/nltk.classify.scikitlearn.html"
      ],
      "metadata": {
        "id": "vbi_8CkpUX1C"
      },
      "id": "vbi_8CkpUX1C"
    },
    {
      "cell_type": "markdown",
      "source": [
        "#### 5.3.1 Unigrams"
      ],
      "metadata": {
        "id": "7fVFkoNZUm7m"
      },
      "id": "7fVFkoNZUm7m"
    },
    {
      "cell_type": "code",
      "source": [
        "svc_uni = SklearnClassifier(LinearSVC(max_iter=10000)).train(train_set_uni)\n",
        "svc_uni_pred = [svc_uni.classify(features) for (features, label) in test_set_uni]"
      ],
      "metadata": {
        "id": "mXMAFIqTVEWA"
      },
      "id": "mXMAFIqTVEWA",
      "execution_count": null,
      "outputs": []
    },
    {
      "cell_type": "code",
      "source": [
        "print(round(accuracy(uni_test_true, svc_uni_pred), 4))"
      ],
      "metadata": {
        "colab": {
          "base_uri": "https://localhost:8080/"
        },
        "id": "aFwFpttuVP8w",
        "outputId": "3636d5e2-a80e-467e-c260-863078a2d822"
      },
      "id": "aFwFpttuVP8w",
      "execution_count": null,
      "outputs": [
        {
          "output_type": "stream",
          "name": "stdout",
          "text": [
            "0.862\n"
          ]
        }
      ]
    },
    {
      "cell_type": "code",
      "source": [
        "ConfusionMatrixDisplay.from_predictions(\n",
        "    uni_test_true,\n",
        "    svc_uni_pred,\n",
        "    display_labels=[1, 0]\n",
        "    )\n",
        "plt.title('Confusion Matrix - Linear Support Vector Classification with unigrams')\n",
        "plt.show()"
      ],
      "metadata": {
        "colab": {
          "base_uri": "https://localhost:8080/",
          "height": 472
        },
        "id": "W_WfSeeidTb5",
        "outputId": "0931fb6c-f1fd-4193-fd78-382c8860a7af"
      },
      "id": "W_WfSeeidTb5",
      "execution_count": null,
      "outputs": [
        {
          "output_type": "display_data",
          "data": {
            "text/plain": [
              "<Figure size 640x480 with 2 Axes>"
            ],
            "image/png": "[encoded data removed]"
          },
          "metadata": {}
        }
      ]
    },
    {
      "cell_type": "markdown",
      "source": [
        "#### 5.3.2 Bigrams"
      ],
      "metadata": {
        "id": "dMXPWIGMdiX-"
      },
      "id": "dMXPWIGMdiX-"
    },
    {
      "cell_type": "code",
      "source": [
        "svc_bi = SklearnClassifier(LinearSVC(max_iter=10000)).train(train_set_bi)\n",
        "svc_bi_pred = [svc_bi.classify(features) for (features, label) in test_set_bi]"
      ],
      "metadata": {
        "id": "v0L_YYzAdla7"
      },
      "id": "v0L_YYzAdla7",
      "execution_count": null,
      "outputs": []
    },
    {
      "cell_type": "code",
      "source": [
        "print(round(accuracy(bi_test_true, svc_bi_pred), 4))"
      ],
      "metadata": {
        "colab": {
          "base_uri": "https://localhost:8080/"
        },
        "id": "5LEhPklxeJK7",
        "outputId": "45ae15b8-676b-43ef-86a4-71e884eec674"
      },
      "id": "5LEhPklxeJK7",
      "execution_count": null,
      "outputs": [
        {
          "output_type": "stream",
          "name": "stdout",
          "text": [
            "0.8335\n"
          ]
        }
      ]
    },
    {
      "cell_type": "code",
      "source": [
        "ConfusionMatrixDisplay.from_predictions(\n",
        "    bi_test_true,\n",
        "    svc_bi_pred,\n",
        "    display_labels=[1, 0]\n",
        "    )\n",
        "plt.title('Confusion Matrix - Linear Support Vector Classification with bigrams')\n",
        "plt.show()"
      ],
      "metadata": {
        "colab": {
          "base_uri": "https://localhost:8080/",
          "height": 472
        },
        "id": "2j9oaN71fE3w",
        "outputId": "bf97c49d-80b7-4c84-8606-8ffa64747b44"
      },
      "id": "2j9oaN71fE3w",
      "execution_count": null,
      "outputs": [
        {
          "output_type": "display_data",
          "data": {
            "text/plain": [
              "<Figure size 640x480 with 2 Axes>"
            ],
            "image/png": "[encoded data removed]"
          },
          "metadata": {}
        }
      ]
    },
    {
      "cell_type": "markdown",
      "source": [
        "#### 5.3.3 Trigrams"
      ],
      "metadata": {
        "id": "Swbt2WZudl5h"
      },
      "id": "Swbt2WZudl5h"
    },
    {
      "cell_type": "code",
      "source": [
        "svc_tri = SklearnClassifier(LinearSVC(max_iter=10000)).train(train_set_tri)\n",
        "svc_tri_pred = [svc_tri.classify(features) for (features, label) in test_set_tri]"
      ],
      "metadata": {
        "id": "ZLWsBOuJsqMJ"
      },
      "id": "ZLWsBOuJsqMJ",
      "execution_count": null,
      "outputs": []
    },
    {
      "cell_type": "code",
      "source": [
        "print(round(accuracy(tri_test_true, svc_tri_pred), 4))"
      ],
      "metadata": {
        "id": "nIeH89QbfixM",
        "colab": {
          "base_uri": "https://localhost:8080/"
        },
        "outputId": "16d2bca5-7e4c-4910-b9ce-2ce722a5160d"
      },
      "id": "nIeH89QbfixM",
      "execution_count": null,
      "outputs": [
        {
          "output_type": "stream",
          "name": "stdout",
          "text": [
            "0.7105\n"
          ]
        }
      ]
    },
    {
      "cell_type": "code",
      "source": [
        "ConfusionMatrixDisplay.from_predictions(\n",
        "    tri_test_true,\n",
        "    svc_tri_pred,\n",
        "    display_labels=[1, 0]\n",
        "    )\n",
        "plt.title('Confusion Matrix - Linear Support Vector Classification with trigrams')\n",
        "plt.show()"
      ],
      "metadata": {
        "id": "nAGY5m0jgPm7",
        "colab": {
          "base_uri": "https://localhost:8080/",
          "height": 472
        },
        "outputId": "1195cba0-da7d-43d6-ef74-f868956df157"
      },
      "id": "nAGY5m0jgPm7",
      "execution_count": null,
      "outputs": [
        {
          "output_type": "display_data",
          "data": {
            "text/plain": [
              "<Figure size 640x480 with 2 Axes>"
            ],
            "image/png": "[encoded data removed]"
          },
          "metadata": {}
        }
      ]
    },
    {
      "cell_type": "markdown",
      "source": [
        "#### 5.3.4 Word Embeddings"
      ],
      "metadata": {
        "id": "y43tXiYrdoU7"
      },
      "id": "y43tXiYrdoU7"
    },
    {
      "cell_type": "code",
      "source": [
        "svc_w2v = SklearnClassifier(LinearSVC(max_iter=10000)).train(train_set_w2v)\n",
        "svc_w2v_pred = [svc_w2v.classify(features) for (features, label) in test_set_w2v]"
      ],
      "metadata": {
        "colab": {
          "base_uri": "https://localhost:8080/"
        },
        "id": "DbejKlMGtTFY",
        "outputId": "2aba10da-98e2-4a82-bdbb-c55637a4fd4e"
      },
      "id": "DbejKlMGtTFY",
      "execution_count": null,
      "outputs": [
        {
          "output_type": "stream",
          "name": "stderr",
          "text": [
            "/usr/local/lib/python3.10/dist-packages/sklearn/svm/_base.py:1244: ConvergenceWarning: Liblinear failed to converge, increase the number of iterations.\n",
            "  warnings.warn(\n"
          ]
        }
      ]
    },
    {
      "cell_type": "code",
      "source": [
        "print(round(accuracy(w2v_test_true, svc_w2v_pred), 4))"
      ],
      "metadata": {
        "colab": {
          "base_uri": "https://localhost:8080/"
        },
        "id": "VeIWP5XZvFHX",
        "outputId": "9ac83ca9-45ea-4452-d23e-25b0036c7470"
      },
      "id": "VeIWP5XZvFHX",
      "execution_count": null,
      "outputs": [
        {
          "output_type": "stream",
          "name": "stdout",
          "text": [
            "0.5865\n"
          ]
        }
      ]
    },
    {
      "cell_type": "code",
      "source": [
        "ConfusionMatrixDisplay.from_predictions(\n",
        "    w2v_test_true,\n",
        "    svc_w2v_pred,\n",
        "    display_labels=[1, 0]\n",
        "    )\n",
        "plt.title('Confusion Matrix - Linear Support Vector Classification with word embeddings')\n",
        "plt.show()"
      ],
      "metadata": {
        "colab": {
          "base_uri": "https://localhost:8080/",
          "height": 472
        },
        "id": "u-YEhih-wmj5",
        "outputId": "61fb1d5c-bea7-4874-c4b4-68fe84350a2e"
      },
      "id": "u-YEhih-wmj5",
      "execution_count": null,
      "outputs": [
        {
          "output_type": "display_data",
          "data": {
            "text/plain": [
              "<Figure size 640x480 with 2 Axes>"
            ],
            "image/png": "[encoded data removed]"
          },
          "metadata": {}
        }
      ]
    },
    {
      "cell_type": "markdown",
      "id": "36b36d4e",
      "metadata": {
        "id": "36b36d4e"
      },
      "source": [
        "## 6. BERT"
      ]
    },
    {
      "cell_type": "markdown",
      "source": [
        "Jako poslední porovnáme výsledky s velkým jazykovým modelem BERT.\n",
        "\n",
        "BERT, zkratka pro Bidirectional Encoder Representations from Transformers, je model strojového učení pro zpracování přirozeného jazyka.\n",
        "\n",
        "Autorem původních zdrojových kódů pro tvorbu BERT transformeru je Ing. Martin Labský, Ph.D.\n",
        "\n",
        "Pro účely této práce a povahy úlohy byli kódy upraveny."
      ],
      "metadata": {
        "id": "F1CsMFehN87A"
      },
      "id": "F1CsMFehN87A"
    },
    {
      "cell_type": "markdown",
      "id": "a8fb6879",
      "metadata": {
        "id": "a8fb6879"
      },
      "source": [
        "### 6.1 Načtení BERT modelu"
      ]
    },
    {
      "cell_type": "markdown",
      "source": [
        "Načteme předtrénovaný model **bert-base-uncased**. Jedná se menší model předtrénovaný na rozsáhlém korpusu anglických dat.\n",
        "\n",
        "https://huggingface.co/google-bert/bert-base-uncased"
      ],
      "metadata": {
        "id": "ypxHugXxPycE"
      },
      "id": "ypxHugXxPycE"
    },
    {
      "cell_type": "code",
      "execution_count": null,
      "id": "b7589d55",
      "metadata": {
        "id": "b7589d55"
      },
      "outputs": [],
      "source": [
        "bert_tokenizer = BertTokenizer.from_pretrained('bert-base-uncased')"
      ]
    },
    {
      "cell_type": "markdown",
      "id": "3e6ad517",
      "metadata": {
        "id": "3e6ad517"
      },
      "source": [
        "### 6.2 Příprava dat pro model"
      ]
    },
    {
      "cell_type": "markdown",
      "source": [
        "Vytvoříme TextDataset PyTorch třídu a připravíme si tak data pro zpracování BERT."
      ],
      "metadata": {
        "id": "CSdM6_fnRVh0"
      },
      "id": "CSdM6_fnRVh0"
    },
    {
      "cell_type": "code",
      "execution_count": null,
      "id": "ddb898e6",
      "metadata": {
        "id": "ddb898e6"
      },
      "outputs": [],
      "source": [
        "class TextDataset(torch.utils.data.Dataset):\n",
        "    def __init__(self, data_frame: DataFrame):\n",
        "        self.labels = data_frame['label'].tolist()\n",
        "        self.texts = [bert_tokenizer(text, padding='max_length', max_length = 512, truncation=True, return_tensors='pt')\n",
        "                       for text in data_frame['text']]\n",
        "\n",
        "    def classes(self) -> list[int]:\n",
        "        return self.labels\n",
        "\n",
        "    def __len__(self) -> int:\n",
        "        return len(self.labels)\n",
        "\n",
        "    def get_batch_labels(self, idx: int) -> np.array:\n",
        "        return np.array(self.labels[idx])\n",
        "\n",
        "    def get_batch_texts(self, idx: int) -> BatchEncoding:\n",
        "        return self.texts[idx]\n",
        "\n",
        "    def __getitem__(self, idx: int) -> tuple[BatchEncoding, np.array]:\n",
        "        return self.get_batch_texts(idx), self.get_batch_labels(idx)"
      ]
    },
    {
      "cell_type": "markdown",
      "id": "883362fd",
      "metadata": {
        "id": "883362fd"
      },
      "source": [
        "### 6.3 Rozdělení dat"
      ]
    },
    {
      "cell_type": "markdown",
      "source": [
        "Rozdělíme data na trénovací (80 %), validační (10 %) a testovací (10 %) množiny."
      ],
      "metadata": {
        "id": "3kOL89C7RtoV"
      },
      "id": "3kOL89C7RtoV"
    },
    {
      "cell_type": "code",
      "execution_count": null,
      "id": "77c75137",
      "metadata": {
        "id": "77c75137"
      },
      "outputs": [],
      "source": [
        "np.random.seed(42)\n",
        "\n",
        "reviews_train, reviews_val, reviews_test = np.split(\n",
        "    reviews.sample(frac=1, random_state=42),\n",
        "    [int(.8 * len(reviews)), int(.9 * len(reviews))]\n",
        "    )"
      ]
    },
    {
      "cell_type": "code",
      "source": [
        "print(reviews_train.shape)\n",
        "print(reviews_val.shape)\n",
        "print(reviews_test.shape)"
      ],
      "metadata": {
        "colab": {
          "base_uri": "https://localhost:8080/"
        },
        "id": "_pzezxsPV2MF",
        "outputId": "5e543cb8-e5ce-4e8f-926d-e1776871690e"
      },
      "id": "_pzezxsPV2MF",
      "execution_count": null,
      "outputs": [
        {
          "output_type": "stream",
          "name": "stdout",
          "text": [
            "(16000, 2)\n",
            "(2000, 2)\n",
            "(2000, 2)\n"
          ]
        }
      ]
    },
    {
      "cell_type": "markdown",
      "id": "ce8a986e",
      "metadata": {
        "id": "ce8a986e"
      },
      "source": [
        "### 6.4 Architektura modelu"
      ]
    },
    {
      "cell_type": "markdown",
      "source": [
        "Vytvoříme architekturu modelu, která se skládá z BERT modelu a následně Dropout vrstvy a klasické lineární vrstvy s 768 neurony.\n",
        "\n",
        "Na výstup sítě umístíme pouze jeden neuron, jelikož se jedná o binární klasifikační úlohu."
      ],
      "metadata": {
        "id": "HM99OLlJR91Z"
      },
      "id": "HM99OLlJR91Z"
    },
    {
      "cell_type": "code",
      "execution_count": null,
      "id": "ba865438",
      "metadata": {
        "id": "ba865438"
      },
      "outputs": [],
      "source": [
        "class BertClassifier(nn.Module):\n",
        "  def __init__(self, dropout=0.5):\n",
        "    super(BertClassifier, self).__init__()\n",
        "\n",
        "    self.bert = BertModel.from_pretrained('bert-base-uncased')\n",
        "    self.dropout = nn.Dropout(dropout)\n",
        "    self.linear = nn.Linear(768, 1)\n",
        "\n",
        "  def forward(self, input_ids, mask):\n",
        "    contextualized_embeddings, pooled_output = self.bert(input_ids=input_ids, attention_mask=mask, return_dict=False)\n",
        "    dropout_output = self.dropout(pooled_output)\n",
        "    linear_output = self.linear(dropout_output)\n",
        "    return linear_output"
      ]
    },
    {
      "cell_type": "markdown",
      "id": "2797af71",
      "metadata": {
        "id": "2797af71"
      },
      "source": [
        "### 6.5 Trénování modelu"
      ]
    },
    {
      "cell_type": "markdown",
      "source": [
        "V případě, že mám k dispozici GPU, budeme trénovat na GPU."
      ],
      "metadata": {
        "id": "lLgiKHmxbFWV"
      },
      "id": "lLgiKHmxbFWV"
    },
    {
      "cell_type": "code",
      "source": [
        "use_cuda = torch.cuda.is_available()\n",
        "device = torch.device(\"cuda\" if use_cuda else \"cpu\")\n",
        "if use_cuda:\n",
        "    print(\"Using CUDA\")"
      ],
      "metadata": {
        "colab": {
          "base_uri": "https://localhost:8080/"
        },
        "id": "j4TsHJqxAXgK",
        "outputId": "572f8ae3-5d6b-4202-e0a9-830d03c23947"
      },
      "id": "j4TsHJqxAXgK",
      "execution_count": null,
      "outputs": [
        {
          "output_type": "stream",
          "name": "stdout",
          "text": [
            "Using CUDA\n"
          ]
        }
      ]
    },
    {
      "cell_type": "markdown",
      "source": [
        "Trénujeme pomocí optimalizátoru Adam a ztrátové funkce BCEWithLogitsLoss (kombinace sigmoid aktivační funkce a ztrátové funkce binární křížové entropie).\n",
        "\n",
        "Funkce sigmoida nám zajistí nelineární transformaci dat na výstupu."
      ],
      "metadata": {
        "id": "xY61WareSub5"
      },
      "id": "xY61WareSub5"
    },
    {
      "cell_type": "code",
      "execution_count": null,
      "id": "a21c5fd3",
      "metadata": {
        "id": "a21c5fd3"
      },
      "outputs": [],
      "source": [
        "def train(model: BertClassifier, train_data: DataFrame, val_data: DataFrame, learning_rate: float, epochs: int):\n",
        "  train, val = TextDataset(train_data), TextDataset(val_data)\n",
        "\n",
        "  train_loader = DataLoader(train, batch_size=4, shuffle=True)\n",
        "  val_loader = DataLoader(val, batch_size=4, shuffle=True)\n",
        "\n",
        "  criterion = nn.BCEWithLogitsLoss()\n",
        "  optimizer = Adam(model.parameters(), lr=learning_rate)\n",
        "\n",
        "  if use_cuda:\n",
        "        model = model.cuda()\n",
        "        criterion = criterion.cuda()\n",
        "\n",
        "  for epoch in range(epochs):\n",
        "    loss_train = 0\n",
        "    correct_train = 0\n",
        "    total_train = 0\n",
        "\n",
        "    for train_input, train_label in tqdm(train_loader):\n",
        "      train_label = train_label.to(device)\n",
        "      mask = train_input['attention_mask'].squeeze(1).to(device)\n",
        "      input_id = train_input['input_ids'].squeeze(1).to(device)\n",
        "\n",
        "      output = model(input_id, mask)\n",
        "\n",
        "      batch_loss = criterion(output, train_label.float().unsqueeze(1))\n",
        "      loss_train += batch_loss.item()\n",
        "\n",
        "      preds = torch.round(torch.sigmoid(output))\n",
        "      correct_train += (preds == train_label.unsqueeze(1)).sum().item()\n",
        "      total_train += train_label.size(0)\n",
        "\n",
        "      model.zero_grad()\n",
        "      batch_loss.backward()\n",
        "      optimizer.step()\n",
        "\n",
        "    train_acc = correct_train / total_train\n",
        "\n",
        "    loss_val = 0\n",
        "    correct_val = 0\n",
        "    total_val = 0\n",
        "\n",
        "    with torch.no_grad():\n",
        "      for val_input, val_label in val_loader:\n",
        "        val_label = val_label.to(device)\n",
        "        mask = val_input['attention_mask'].squeeze(1).to(device)\n",
        "        input_id = val_input['input_ids'].squeeze(1).to(device)\n",
        "\n",
        "        output = model(input_id, mask)\n",
        "\n",
        "        batch_loss = criterion(output, val_label.float().unsqueeze(1))\n",
        "        loss_val += batch_loss.item()\n",
        "\n",
        "        preds = torch.round(torch.sigmoid(output))\n",
        "        correct_val += (preds == val_label.unsqueeze(1)).sum().item()\n",
        "        total_val += val_label.size(0)\n",
        "\n",
        "    val_acc = correct_val / total_val\n",
        "\n",
        "    print(f'Epochs: {epoch + 1} | Train Loss: {loss_train / len(train_data): .3f} \\\n",
        "      | Train Accuracy: {train_acc: .3f} \\\n",
        "      | Val Loss: {loss_val / len(val_data): .3f} \\\n",
        "      | Val Accuracy: {val_acc: .3f}')\n",
        "\n",
        "\n",
        "EPOCHS = 5\n",
        "model = BertClassifier()\n",
        "LR = 1e-5"
      ]
    },
    {
      "cell_type": "markdown",
      "source": [
        "Celkem trénujeme 5 epoch při rychlosti učení 1e-5."
      ],
      "metadata": {
        "id": "uvJ59IidTA-1"
      },
      "id": "uvJ59IidTA-1"
    },
    {
      "cell_type": "code",
      "execution_count": null,
      "id": "fe55262a",
      "metadata": {
        "colab": {
          "base_uri": "https://localhost:8080/"
        },
        "id": "fe55262a",
        "outputId": "8f2577f5-2aa0-4573-e61d-e280fd54f1a3"
      },
      "outputs": [
        {
          "output_type": "stream",
          "name": "stderr",
          "text": [
            "100%|██████████| 4000/4000 [11:53<00:00,  5.61it/s]\n"
          ]
        },
        {
          "output_type": "stream",
          "name": "stdout",
          "text": [
            "Epochs: 1 | Train Loss:  0.080       | Train Accuracy:  0.861       | Val Loss:  0.074       | Val Accuracy:  0.877\n"
          ]
        },
        {
          "output_type": "stream",
          "name": "stderr",
          "text": [
            "100%|██████████| 4000/4000 [11:52<00:00,  5.61it/s]\n"
          ]
        },
        {
          "output_type": "stream",
          "name": "stdout",
          "text": [
            "Epochs: 2 | Train Loss:  0.034       | Train Accuracy:  0.951       | Val Loss:  0.072       | Val Accuracy:  0.895\n"
          ]
        },
        {
          "output_type": "stream",
          "name": "stderr",
          "text": [
            "100%|██████████| 4000/4000 [11:53<00:00,  5.61it/s]\n"
          ]
        },
        {
          "output_type": "stream",
          "name": "stdout",
          "text": [
            "Epochs: 3 | Train Loss:  0.010       | Train Accuracy:  0.989       | Val Loss:  0.114       | Val Accuracy:  0.889\n"
          ]
        },
        {
          "output_type": "stream",
          "name": "stderr",
          "text": [
            "100%|██████████| 4000/4000 [11:52<00:00,  5.61it/s]\n"
          ]
        },
        {
          "output_type": "stream",
          "name": "stdout",
          "text": [
            "Epochs: 4 | Train Loss:  0.006       | Train Accuracy:  0.992       | Val Loss:  0.097       | Val Accuracy:  0.898\n"
          ]
        },
        {
          "output_type": "stream",
          "name": "stderr",
          "text": [
            "100%|██████████| 4000/4000 [11:53<00:00,  5.61it/s]\n"
          ]
        },
        {
          "output_type": "stream",
          "name": "stdout",
          "text": [
            "Epochs: 5 | Train Loss:  0.004       | Train Accuracy:  0.995       | Val Loss:  0.129       | Val Accuracy:  0.895\n"
          ]
        }
      ],
      "source": [
        "train(model, reviews_train, reviews_val, LR, EPOCHS)"
      ]
    },
    {
      "cell_type": "markdown",
      "source": [
        "Trénování trvalo na GPU cca. 60 minut. Model se v posledních dvou epochách prakticky nezlepšuje a nastává mírné přeučení."
      ],
      "metadata": {
        "id": "wfobXGa5bY1g"
      },
      "id": "wfobXGa5bY1g"
    },
    {
      "cell_type": "markdown",
      "source": [
        "### 6.6 Evaluace modelu"
      ],
      "metadata": {
        "id": "UYFsuY8aTP0F"
      },
      "id": "UYFsuY8aTP0F"
    },
    {
      "cell_type": "markdown",
      "source": [
        "Otestujeme přesnost BERT modelu na testovacích datech."
      ],
      "metadata": {
        "id": "K7Ds41ViTfuD"
      },
      "id": "K7Ds41ViTfuD"
    },
    {
      "cell_type": "code",
      "source": [
        "def evaluate(model: BertClassifier, test_data: DataFrame):\n",
        "  test = TextDataset(test_data)\n",
        "  test_dataloader = torch.utils.data.DataLoader(test, batch_size=4)\n",
        "\n",
        "  if use_cuda:\n",
        "    model = model.cuda()\n",
        "\n",
        "    correct_test = 0\n",
        "    total_test = 0\n",
        "\n",
        "    acc_test = 0\n",
        "    with torch.no_grad():\n",
        "      for test_input, test_label in test_dataloader:\n",
        "        test_label = test_label.to(device)\n",
        "        mask = test_input['attention_mask'].squeeze(1).to(device)\n",
        "        input_id = test_input['input_ids'].squeeze(1).to(device)\n",
        "\n",
        "        output = model(input_id, mask)\n",
        "\n",
        "        preds = torch.round(torch.sigmoid(output))\n",
        "        correct_test += (preds == test_label.unsqueeze(1)).sum().item()\n",
        "        total_test += test_label.size(0)\n",
        "\n",
        "    acc_test += correct_test / total_test\n",
        "\n",
        "    print(f'Test Accuracy: {acc_test: .3f}')\n",
        "\n",
        "\n",
        "evaluate(model, reviews_test)"
      ],
      "metadata": {
        "colab": {
          "base_uri": "https://localhost:8080/"
        },
        "id": "SXFd2eRjnzv8",
        "outputId": "53fc1796-b3e9-471e-edcf-3fc5452913bb"
      },
      "id": "SXFd2eRjnzv8",
      "execution_count": null,
      "outputs": [
        {
          "output_type": "stream",
          "name": "stdout",
          "text": [
            "Test Accuracy:  0.904\n"
          ]
        }
      ]
    },
    {
      "cell_type": "markdown",
      "source": [
        "## 7. Výsledky"
      ],
      "metadata": {
        "id": "Q3EtSnViboab"
      },
      "id": "Q3EtSnViboab"
    },
    {
      "cell_type": "markdown",
      "source": [
        "Výsledkem této práce je analýza sentimentu pomocí knihovny NLTK na třech různých přístupech: slovníkové metody, klasifikátory a předtrénované transformery. V tabulce níže lze vidět jednotlivé výsledky:\n",
        "\n",
        "| **Metoda**                            | **Správnost** |\n",
        "|---------------------------------------|---------------|\n",
        "| VADER                                 | 0.6736        |\n",
        "| SentiWordNet                          | 0.6367        |\n",
        "| Naive Bayes - unigrams                | 0.8413        |\n",
        "| Naive Bayes - bigrams                 | 0.8518        |\n",
        "| Naive Bayes - trigrams                | 0.7438        |\n",
        "| Naive Bayes - word embeddings         | 0.5770        |\n",
        "| Logistic Regression - unigrams        | 0.8778        |\n",
        "| Logistic Regression - bigrams         | 0.8350        |\n",
        "| Logistic Regression - trigrams        | 0.6960        |\n",
        "| Logistic Regression - word embeddings | 0.6960        |\n",
        "| SVM - unigrams                        | 0.8620        |\n",
        "| SVM - bigrams                         | 0.8335        |\n",
        "| SVM - trigrams                        | 0.7105        |\n",
        "| SVM - word embeddings                 | 0.5865        |\n",
        "| BERT                                  | 0.9040        |\n",
        "\n",
        "Nejlepších výsledků dosahuje bezkonkurenčně model BERT. Dále se umístili lineární klasifikátory, zejména s reprezentací unigramů."
      ],
      "metadata": {
        "id": "SAi10wNCbuLT"
      },
      "id": "SAi10wNCbuLT"
    }
  ],
  "metadata": {
    "colab": {
      "provenance": [],
      "gpuType": "L4"
    },
    "kernelspec": {
      "display_name": "Python 3",
      "name": "python3"
    },
    "language_info": {
      "codemirror_mode": {
        "name": "ipython",
        "version": 3
      },
      "file_extension": ".py",
      "mimetype": "text/x-python",
      "name": "python",
      "nbconvert_exporter": "python",
      "pygments_lexer": "ipython3",
      "version": "3.11.9"
    },
    "accelerator": "GPU"
  },
  "nbformat": 4,
  "nbformat_minor": 5
}